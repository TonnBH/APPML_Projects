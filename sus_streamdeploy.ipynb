{
  "nbformat": 4,
  "nbformat_minor": 0,
  "metadata": {
    "colab": {
      "provenance": [],
      "mount_file_id": "1QNW4DuD-8VYmu_ad9YB-Lzs-oKbJPnqH",
      "authorship_tag": "ABX9TyOzIlbyzBdDrB0AHbWBXT6O",
      "include_colab_link": true
    },
    "kernelspec": {
      "name": "python3",
      "display_name": "Python 3"
    },
    "language_info": {
      "name": "python"
    }
  },
  "cells": [
    {
      "cell_type": "markdown",
      "metadata": {
        "id": "view-in-github",
        "colab_type": "text"
      },
      "source": [
        "<a href=\"https://colab.research.google.com/github/TonnBH/APPML_Projects/blob/main/sus_streamdeploy.ipynb\" target=\"_parent\"><img src=\"https://colab.research.google.com/assets/colab-badge.svg\" alt=\"Open In Colab\"/></a>"
      ]
    },
    {
      "cell_type": "code",
      "execution_count": 5,
      "metadata": {
        "id": "lLGFppR1FfWU"
      },
      "outputs": [],
      "source": [
        "!pip install -q streamlit\n",
        "\n",
        "import pandas as pd\n",
        "import streamlit as st"
      ]
    },
    {
      "cell_type": "code",
      "source": [
        "from google.colab import files"
      ],
      "metadata": {
        "id": "Evym6hf5F64B"
      },
      "execution_count": 6,
      "outputs": []
    },
    {
      "cell_type": "code",
      "source": [
        "pd.read_csv('/content/drive/MyDrive/ML_Projects/SUS_Project/sus_df.csv')"
      ],
      "metadata": {
        "id": "5mxrM8CNF-lM"
      },
      "execution_count": null,
      "outputs": []
    },
    {
      "cell_type": "code",
      "source": [
        "st.title('NUMERO DE LEITOS FORNECIDOS PELO SUS NOS ULTIMOS DEZ ANOS')"
      ],
      "metadata": {
        "colab": {
          "base_uri": "https://localhost:8080/"
        },
        "id": "v791j_dwHoQI",
        "outputId": "68eb8b4a-d7da-4541-ff03-02a202135a4c"
      },
      "execution_count": 8,
      "outputs": [
        {
          "output_type": "execute_result",
          "data": {
            "text/plain": [
              "DeltaGenerator()"
            ]
          },
          "metadata": {},
          "execution_count": 8
        }
      ]
    }
  ]
}