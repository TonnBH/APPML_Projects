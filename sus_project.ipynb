{
  "nbformat": 4,
  "nbformat_minor": 0,
  "metadata": {
    "colab": {
      "provenance": [],
      "mount_file_id": "https://gist.github.com/TonnBH/ab6ea028ea2514e32d944fecb42ef3ba#file-sus_project-ipynb",
      "authorship_tag": "ABX9TyMsHVpSKdVyyuJNAiKoy72k",
      "include_colab_link": true
    },
    "kernelspec": {
      "name": "python3",
      "display_name": "Python 3"
    },
    "language_info": {
      "name": "python"
    }
  },
  "cells": [
    {
      "cell_type": "markdown",
      "metadata": {
        "id": "view-in-github",
        "colab_type": "text"
      },
      "source": [
        "<a href=\"https://colab.research.google.com/github/TonnBH/APPML_Projects/blob/main/sus_project.ipynb\" target=\"_parent\"><img src=\"https://colab.research.google.com/assets/colab-badge.svg\" alt=\"Open In Colab\"/></a>"
      ]
    },
    {
      "cell_type": "markdown",
      "source": [
        "## Número de Leitos Disponiveis Pelos SUS nos Ultimos Dez Anos"
      ],
      "metadata": {
        "id": "57YWOa1qqy1a"
      }
    },
    {
      "cell_type": "markdown",
      "source": [
        "A inteção deste projeto é fazer uma comparação com o número de leitos no sistema unico de Saude, o SUS com o objetivo de comparar e saber sobre os investimentos em leitos no ultimos anos pelos ultimos governos."
      ],
      "metadata": {
        "id": "qP16v6m9rhDU"
      }
    },
    {
      "cell_type": "code",
      "execution_count": 19,
      "metadata": {
        "id": "QW9YUx4Oo6s6"
      },
      "outputs": [],
      "source": [
        "import pandas as pd\n",
        "import matplotlib.pyplot as plt\n",
        "import seaborn as sns"
      ]
    },
    {
      "cell_type": "code",
      "source": [
        "from google.colab import files"
      ],
      "metadata": {
        "id": "UGN6sVf8vRZm"
      },
      "execution_count": 20,
      "outputs": []
    },
    {
      "cell_type": "markdown",
      "source": [
        "A minha intenção é importar cada banco de dados separadamente por ano, para podermos obter mais informações que sejam relevantes para o projeto; e tambem excluir colunas que não tenham relevancia."
      ],
      "metadata": {
        "id": "C3l25lQaxfFK"
      }
    },
    {
      "cell_type": "code",
      "source": [
        "#df_23 = pd.read_csv('/content/drive/MyDrive/ML_Projects/SUS_Project/Datasets/Leitos/Leitos_2023.csv',sep=',',index_col=\"COMP\")\n",
        "df_22 = pd.read_csv('/content/drive/MyDrive/ML_Projects/SUS_Project/Datasets/Leitos/Leitos_2022.csv', sep=',',index_col=\"COMP\")\n",
        "df_21 = pd.read_csv('/content/drive/MyDrive/ML_Projects/SUS_Project/Datasets/Leitos/Leitos_2021.csv', sep=',',index_col=\"COMP\")\n",
        "df_20 = pd.read_csv('/content/drive/MyDrive/ML_Projects/SUS_Project/Datasets/Leitos/Leitos_2020.csv', sep=',',index_col=\"COMP\")\n",
        "df_19 = pd.read_csv('/content/drive/MyDrive/ML_Projects/SUS_Project/Datasets/Leitos/Leitos_2019.csv', sep=',',index_col=\"COMP\")\n",
        "df_18 = pd.read_csv('/content/drive/MyDrive/ML_Projects/SUS_Project/Datasets/Leitos/Leitos_2018.csv', sep=',',index_col=\"COMP\")\n",
        "df_17 = pd.read_csv('/content/drive/MyDrive/ML_Projects/SUS_Project/Datasets/Leitos/Leitos_2017.csv', sep=',',index_col=\"COMP\")\n",
        "df_16 = pd.read_csv('/content/drive/MyDrive/ML_Projects/SUS_Project/Datasets/Leitos/Leitos_2016.csv', sep=',',index_col=\"COMP\")\n",
        "df_15 = pd.read_csv('/content/drive/MyDrive/ML_Projects/SUS_Project/Datasets/Leitos/Leitos_2015.csv', sep=',',index_col=\"COMP\")\n",
        "df_14 = pd.read_csv('/content/drive/MyDrive/ML_Projects/SUS_Project/Datasets/Leitos/Leitos_2014.csv', sep=',',index_col=\"COMP\")\n",
        "df_13 = pd.read_csv('/content/drive/MyDrive/ML_Projects/SUS_Project/Datasets/Leitos/Leitos_2013.csv', sep=',',index_col=\"COMP\")"
      ],
      "metadata": {
        "id": "GB_QiBUAtZGI"
      },
      "execution_count": 21,
      "outputs": []
    },
    {
      "cell_type": "markdown",
      "source": [
        "Eliminando colunas desnecessarias"
      ],
      "metadata": {
        "id": "rqVfyfZEGxbX"
      }
    },
    {
      "cell_type": "code",
      "source": [
        "df_13.drop([\"RAZAO SOCIAL\", \"TP_GESTAO\",\"CO_TIPO_UNIDADE\",\"CNES\",\"CO_CEP\",\"NO_EMAIL\",\"NU_TELEFONE\",\"NO_COMPLEMENTO\",\"MOTIVO DESABILITACAO\",\"UTI ADULTO - EXIST\",\"UTI ADULTO - SUS\",\"UTI NEONATAL - EXIST\",\"UTI NEONATAL - SUS\",\"UTI QUEIMADO - EXIST\",\"UTI QUEIMADO - SUS\",\"UTI CORONARIANA - EXIST\",\"UTI CORONARIANA - SUS\"], axis=1, inplace=True)\n",
        "df_14.drop([\"RAZAO SOCIAL\", \"TP_GESTAO\",\"CO_TIPO_UNIDADE\",\"CNES\",\"CO_CEP\",\"NO_EMAIL\",\"NU_TELEFONE\",\"NO_COMPLEMENTO\",\"MOTIVO DESABILITACAO\",\"UTI ADULTO - EXIST\",\"UTI ADULTO - SUS\",\"UTI NEONATAL - EXIST\",\"UTI NEONATAL - SUS\",\"UTI QUEIMADO - EXIST\",\"UTI QUEIMADO - SUS\",\"UTI CORONARIANA - EXIST\",\"UTI CORONARIANA - SUS\"], axis=1, inplace=True)\n",
        "df_15.drop([\"RAZAO SOCIAL\", \"TP_GESTAO\",\"CO_TIPO_UNIDADE\",\"CNES\",\"CO_CEP\",\"NO_EMAIL\",\"NU_TELEFONE\",\"NO_COMPLEMENTO\",\"MOTIVO DESABILITACAO\",\"UTI ADULTO - EXIST\",\"UTI ADULTO - SUS\",\"UTI NEONATAL - EXIST\",\"UTI NEONATAL - SUS\",\"UTI QUEIMADO - EXIST\",\"UTI QUEIMADO - SUS\",\"UTI CORONARIANA - EXIST\",\"UTI CORONARIANA - SUS\"], axis=1, inplace=True)\n",
        "df_16.drop([\"RAZAO SOCIAL\", \"TP_GESTAO\",\"CO_TIPO_UNIDADE\",\"CNES\",\"CO_CEP\",\"NO_EMAIL\",\"NU_TELEFONE\",\"NO_COMPLEMENTO\",\"MOTIVO DESABILITACAO\",\"UTI ADULTO - EXIST\",\"UTI ADULTO - SUS\",\"UTI NEONATAL - EXIST\",\"UTI NEONATAL - SUS\",\"UTI QUEIMADO - EXIST\",\"UTI QUEIMADO - SUS\",\"UTI CORONARIANA - EXIST\",\"UTI CORONARIANA - SUS\"], axis=1, inplace=True)\n",
        "df_17.drop([\"RAZAO SOCIAL\", \"TP_GESTAO\",\"CO_TIPO_UNIDADE\",\"CNES\",\"CO_CEP\",\"NO_EMAIL\",\"NU_TELEFONE\",\"NO_COMPLEMENTO\",\"MOTIVO DESABILITACAO\",\"UTI ADULTO - EXIST\",\"UTI ADULTO - SUS\",\"UTI NEONATAL - EXIST\",\"UTI NEONATAL - SUS\",\"UTI QUEIMADO - EXIST\",\"UTI QUEIMADO - SUS\",\"UTI CORONARIANA - EXIST\",\"UTI CORONARIANA - SUS\"], axis=1, inplace=True)\n",
        "df_18.drop([\"RAZAO SOCIAL\", \"TP_GESTAO\",\"CO_TIPO_UNIDADE\",\"CNES\",\"CO_CEP\",\"NO_EMAIL\",\"NU_TELEFONE\",\"NO_COMPLEMENTO\",\"MOTIVO DESABILITACAO\",\"UTI ADULTO - EXIST\",\"UTI ADULTO - SUS\",\"UTI NEONATAL - EXIST\",\"UTI NEONATAL - SUS\",\"UTI QUEIMADO - EXIST\",\"UTI QUEIMADO - SUS\",\"UTI CORONARIANA - EXIST\",\"UTI CORONARIANA - SUS\"], axis=1, inplace=True)\n",
        "df_19.drop([\"RAZAO SOCIAL\", \"TP_GESTAO\",\"CO_TIPO_UNIDADE\",\"CNES\",\"CO_CEP\",\"NO_EMAIL\",\"NU_TELEFONE\",\"NO_COMPLEMENTO\",\"MOTIVO DESABILITACAO\",\"UTI ADULTO - EXIST\",\"UTI ADULTO - SUS\",\"UTI NEONATAL - EXIST\",\"UTI NEONATAL - SUS\",\"UTI QUEIMADO - EXIST\",\"UTI QUEIMADO - SUS\",\"UTI CORONARIANA - EXIST\",\"UTI CORONARIANA - SUS\"], axis=1, inplace=True)\n",
        "df_20.drop([\"RAZAO SOCIAL\", \"TP_GESTAO\",\"CO_TIPO_UNIDADE\",\"CNES\",\"CO_CEP\",\"NO_EMAIL\",\"NU_TELEFONE\",\"NO_COMPLEMENTO\",\"MOTIVO DESABILITACAO\",\"UTI ADULTO - EXIST\",\"UTI ADULTO - SUS\",\"UTI NEONATAL - EXIST\",\"UTI NEONATAL - SUS\",\"UTI QUEIMADO - EXIST\",\"UTI QUEIMADO - SUS\",\"UTI CORONARIANA - EXIST\",\"UTI CORONARIANA - SUS\"], axis=1, inplace=True)\n",
        "df_21.drop([\"RAZAO SOCIAL\", \"TP_GESTAO\",\"CO_TIPO_UNIDADE\",\"CNES\",\"CO_CEP\",\"NO_EMAIL\",\"NU_TELEFONE\",\"NO_COMPLEMENTO\",\"MOTIVO DESABILITACAO\",\"UTI ADULTO - EXIST\",\"UTI ADULTO - SUS\",\"UTI NEONATAL - EXIST\",\"UTI NEONATAL - SUS\",\"UTI QUEIMADO - EXIST\",\"UTI QUEIMADO - SUS\",\"UTI CORONARIANA - EXIST\",\"UTI CORONARIANA - SUS\"], axis=1, inplace=True)\n",
        "df_22.drop([\"RAZAO SOCIAL\", \"TP_GESTAO\",\"CO_TIPO_UNIDADE\",\"CNES\",\"CO_CEP\",\"NO_EMAIL\",\"NU_TELEFONE\",\"NO_COMPLEMENTO\",\"MOTIVO DESABILITACAO\",\"UTI ADULTO - EXIST\",\"UTI ADULTO - SUS\",\"UTI NEONATAL - EXIST\",\"UTI NEONATAL - SUS\",\"UTI QUEIMADO - EXIST\",\"UTI QUEIMADO - SUS\",\"UTI CORONARIANA - EXIST\",\"UTI CORONARIANA - SUS\"], axis=1, inplace=True)"
      ],
      "metadata": {
        "id": "DiPVrPFPDNnV"
      },
      "execution_count": 22,
      "outputs": []
    },
    {
      "cell_type": "code",
      "source": [
        "df_13.columns"
      ],
      "metadata": {
        "colab": {
          "base_uri": "https://localhost:8080/"
        },
        "id": "bLDgCQY1eKnb",
        "outputId": "4dac0f16-78c4-4af4-c269-ba1c7840befe"
      },
      "execution_count": 23,
      "outputs": [
        {
          "output_type": "execute_result",
          "data": {
            "text/plain": [
              "Index(['REGIAO', 'UF', 'MUNICIPIO', 'NOME ESTABELECIMENTO', 'DS_TIPO_UNIDADE',\n",
              "       'NATUREZA_JURIDICA', 'DESC_NATUREZA_JURIDICA', 'NO_LOGRADOURO',\n",
              "       'NU_ENDERECO', 'NO_BAIRRO', 'LEITOS EXISTENTE', 'LEITOS SUS',\n",
              "       'UTI TOTAL - EXIST', 'UTI TOTAL - SUS', 'UTI PEDIATRICO - EXIST',\n",
              "       'UTI PEDIATRICO - SUS'],\n",
              "      dtype='object')"
            ]
          },
          "metadata": {},
          "execution_count": 23
        }
      ]
    },
    {
      "cell_type": "code",
      "source": [
        "df_13.dtypes"
      ],
      "metadata": {
        "colab": {
          "base_uri": "https://localhost:8080/"
        },
        "id": "qdFKc6gNWboo",
        "outputId": "4876deaa-bcd3-4d63-838f-5ba1255cd3ec"
      },
      "execution_count": 24,
      "outputs": [
        {
          "output_type": "execute_result",
          "data": {
            "text/plain": [
              "REGIAO                    object\n",
              "UF                        object\n",
              "MUNICIPIO                 object\n",
              "NOME ESTABELECIMENTO      object\n",
              "DS_TIPO_UNIDADE           object\n",
              "NATUREZA_JURIDICA          int64\n",
              "DESC_NATUREZA_JURIDICA    object\n",
              "NO_LOGRADOURO             object\n",
              "NU_ENDERECO               object\n",
              "NO_BAIRRO                 object\n",
              "LEITOS EXISTENTE           int64\n",
              "LEITOS SUS                 int64\n",
              "UTI TOTAL - EXIST          int64\n",
              "UTI TOTAL - SUS            int64\n",
              "UTI PEDIATRICO - EXIST     int64\n",
              "UTI PEDIATRICO - SUS       int64\n",
              "dtype: object"
            ]
          },
          "metadata": {},
          "execution_count": 24
        }
      ]
    },
    {
      "cell_type": "code",
      "source": [
        "df_13.shape"
      ],
      "metadata": {
        "colab": {
          "base_uri": "https://localhost:8080/"
        },
        "id": "qPDKcoQVZh73",
        "outputId": "54b0d419-b3f9-4808-cc5a-540a9ad5d1de"
      },
      "execution_count": 25,
      "outputs": [
        {
          "output_type": "execute_result",
          "data": {
            "text/plain": [
              "(86183, 16)"
            ]
          },
          "metadata": {},
          "execution_count": 25
        }
      ]
    },
    {
      "cell_type": "markdown",
      "source": [
        "Neste passo vou otimizar memoria alterando os tipos objetos para o tipo categoria\n",
        "\n",
        "REGIAO tipo  object = 5524033 memory usage,       \n",
        "       REGIAO tipo  category = 86675 memory usage"
      ],
      "metadata": {
        "id": "6jpiPQ-aKQrt"
      }
    },
    {
      "cell_type": "code",
      "source": [
        "df_13[\"REGIAO\"] = df_13[\"REGIAO\"].astype ('category')\n",
        "df_13[\"UF\"] = df_13[\"UF\"].astype ('category')\n",
        "df_13[\"MUNICIPIO\"] = df_13[\"MUNICIPIO\"].astype ('category')\n",
        "df_13[\"NOME ESTABELECIMENTO\"] = df_13[\"NOME ESTABELECIMENTO\"].astype ('category')\n",
        "df_13[\"DS_TIPO_UNIDADE\"] = df_13[\"DS_TIPO_UNIDADE\"].astype ('category')\n",
        "df_13[\"DESC_NATUREZA_JURIDICA\"] = df_13[\"DESC_NATUREZA_JURIDICA\"].astype ('category')\n",
        "df_13[\"NO_LOGRADOURO\"] = df_13[\"NO_LOGRADOURO\"].astype ('category')\n",
        "df_13[\"NU_ENDERECO\"] = df_13[\"NU_ENDERECO\"].astype ('category')\n",
        "df_13[\"NO_BAIRRO\"] = df_13[\"NO_BAIRRO\"].astype ('category')\n",
        "df_13[\"NO_BAIRRO\"] = df_13[\"NO_BAIRRO\"].astype ('category')\n",
        "\n",
        "df_14[\"REGIAO\"] = df_14[\"REGIAO\"].astype ('category')\n",
        "df_14[\"UF\"] = df_14[\"UF\"].astype ('category')\n",
        "df_14[\"MUNICIPIO\"] = df_14[\"MUNICIPIO\"].astype ('category')\n",
        "df_14[\"NOME ESTABELECIMENTO\"] = df_14[\"NOME ESTABELECIMENTO\"].astype ('category')\n",
        "df_14[\"DS_TIPO_UNIDADE\"] = df_14[\"DS_TIPO_UNIDADE\"].astype ('category')\n",
        "df_14[\"DESC_NATUREZA_JURIDICA\"] = df_14[\"DESC_NATUREZA_JURIDICA\"].astype ('category')\n",
        "df_14[\"NO_LOGRADOURO\"] = df_14[\"NO_LOGRADOURO\"].astype ('category')\n",
        "df_14[\"NU_ENDERECO\"] = df_14[\"NU_ENDERECO\"].astype ('category')\n",
        "df_14[\"NO_BAIRRO\"] = df_14[\"NO_BAIRRO\"].astype ('category')\n",
        "df_14[\"NO_BAIRRO\"] = df_14[\"NO_BAIRRO\"].astype ('category')\n",
        "\n",
        "df_15[\"REGIAO\"] = df_15[\"REGIAO\"].astype ('category')\n",
        "df_15[\"UF\"] = df_15[\"UF\"].astype ('category')\n",
        "df_15[\"MUNICIPIO\"] = df_15[\"MUNICIPIO\"].astype ('category')\n",
        "df_15[\"NOME ESTABELECIMENTO\"] = df_15[\"NOME ESTABELECIMENTO\"].astype ('category')\n",
        "df_15[\"DS_TIPO_UNIDADE\"] = df_15[\"DS_TIPO_UNIDADE\"].astype ('category')\n",
        "df_15[\"DESC_NATUREZA_JURIDICA\"] = df_15[\"DESC_NATUREZA_JURIDICA\"].astype ('category')\n",
        "df_15[\"NO_LOGRADOURO\"] = df_15[\"NO_LOGRADOURO\"].astype ('category')\n",
        "df_15[\"NU_ENDERECO\"] = df_15[\"NU_ENDERECO\"].astype ('category')\n",
        "df_15[\"NO_BAIRRO\"] = df_15[\"NO_BAIRRO\"].astype ('category')\n",
        "df_15[\"NO_BAIRRO\"] = df_15[\"NO_BAIRRO\"].astype ('category')\n",
        "\n",
        "df_16[\"REGIAO\"] = df_16[\"REGIAO\"].astype ('category')\n",
        "df_16[\"UF\"] = df_16[\"UF\"].astype ('category')\n",
        "df_16[\"MUNICIPIO\"] = df_16[\"MUNICIPIO\"].astype ('category')\n",
        "df_16[\"NOME ESTABELECIMENTO\"] = df_16[\"NOME ESTABELECIMENTO\"].astype ('category')\n",
        "df_16[\"DS_TIPO_UNIDADE\"] = df_16[\"DS_TIPO_UNIDADE\"].astype ('category')\n",
        "df_16[\"DESC_NATUREZA_JURIDICA\"] = df_16[\"DESC_NATUREZA_JURIDICA\"].astype ('category')\n",
        "df_16[\"NO_LOGRADOURO\"] = df_16[\"NO_LOGRADOURO\"].astype ('category')\n",
        "df_16[\"NU_ENDERECO\"] = df_16[\"NU_ENDERECO\"].astype ('category')\n",
        "df_16[\"NO_BAIRRO\"] = df_16[\"NO_BAIRRO\"].astype ('category')\n",
        "df_16[\"NO_BAIRRO\"] = df_16[\"NO_BAIRRO\"].astype ('category')\n",
        "\n",
        "df_17[\"REGIAO\"] = df_17[\"REGIAO\"].astype ('category')\n",
        "df_17[\"UF\"] = df_17[\"UF\"].astype ('category')\n",
        "df_17[\"MUNICIPIO\"] = df_17[\"MUNICIPIO\"].astype ('category')\n",
        "df_17[\"NOME ESTABELECIMENTO\"] = df_17[\"NOME ESTABELECIMENTO\"].astype ('category')\n",
        "df_17[\"DS_TIPO_UNIDADE\"] = df_17[\"DS_TIPO_UNIDADE\"].astype ('category')\n",
        "df_17[\"DESC_NATUREZA_JURIDICA\"] = df_17[\"DESC_NATUREZA_JURIDICA\"].astype ('category')\n",
        "df_17[\"NO_LOGRADOURO\"] = df_17[\"NO_LOGRADOURO\"].astype ('category')\n",
        "df_17[\"NU_ENDERECO\"] = df_17[\"NU_ENDERECO\"].astype ('category')\n",
        "df_17[\"NO_BAIRRO\"] = df_17[\"NO_BAIRRO\"].astype ('category')\n",
        "df_17[\"NO_BAIRRO\"] = df_17[\"NO_BAIRRO\"].astype ('category')\n",
        "\n",
        "df_18[\"REGIAO\"] = df_18[\"REGIAO\"].astype ('category')\n",
        "df_18[\"UF\"] = df_18[\"UF\"].astype ('category')\n",
        "df_18[\"MUNICIPIO\"] = df_18[\"MUNICIPIO\"].astype ('category')\n",
        "df_18[\"NOME ESTABELECIMENTO\"] = df_18[\"NOME ESTABELECIMENTO\"].astype ('category')\n",
        "df_18[\"DS_TIPO_UNIDADE\"] = df_18[\"DS_TIPO_UNIDADE\"].astype ('category')\n",
        "df_18[\"DESC_NATUREZA_JURIDICA\"] = df_18[\"DESC_NATUREZA_JURIDICA\"].astype ('category')\n",
        "df_18[\"NO_LOGRADOURO\"] = df_18[\"NO_LOGRADOURO\"].astype ('category')\n",
        "df_18[\"NU_ENDERECO\"] = df_18[\"NU_ENDERECO\"].astype ('category')\n",
        "df_18[\"NO_BAIRRO\"] = df_18[\"NO_BAIRRO\"].astype ('category')\n",
        "df_18[\"NO_BAIRRO\"] = df_18[\"NO_BAIRRO\"].astype ('category')\n",
        "\n",
        "df_19[\"REGIAO\"] = df_19[\"REGIAO\"].astype ('category')\n",
        "df_19[\"UF\"] = df_19[\"UF\"].astype ('category')\n",
        "df_19[\"MUNICIPIO\"] = df_19[\"MUNICIPIO\"].astype ('category')\n",
        "df_19[\"NOME ESTABELECIMENTO\"] = df_19[\"NOME ESTABELECIMENTO\"].astype ('category')\n",
        "df_19[\"DS_TIPO_UNIDADE\"] = df_19[\"DS_TIPO_UNIDADE\"].astype ('category')\n",
        "df_19[\"DESC_NATUREZA_JURIDICA\"] = df_19[\"DESC_NATUREZA_JURIDICA\"].astype ('category')\n",
        "df_19[\"NO_LOGRADOURO\"] = df_19[\"NO_LOGRADOURO\"].astype ('category')\n",
        "df_19[\"NU_ENDERECO\"] = df_19[\"NU_ENDERECO\"].astype ('category')\n",
        "df_19[\"NO_BAIRRO\"] = df_19[\"NO_BAIRRO\"].astype ('category')\n",
        "df_19[\"NO_BAIRRO\"] = df_19[\"NO_BAIRRO\"].astype ('category')\n",
        "\n",
        "df_20[\"REGIAO\"] = df_20[\"REGIAO\"].astype ('category')\n",
        "df_20[\"UF\"] = df_20[\"UF\"].astype ('category')\n",
        "df_20[\"MUNICIPIO\"] = df_20[\"MUNICIPIO\"].astype ('category')\n",
        "df_20[\"NOME ESTABELECIMENTO\"] = df_20[\"NOME ESTABELECIMENTO\"].astype ('category')\n",
        "df_20[\"DS_TIPO_UNIDADE\"] = df_20[\"DS_TIPO_UNIDADE\"].astype ('category')\n",
        "df_20[\"DESC_NATUREZA_JURIDICA\"] = df_20[\"DESC_NATUREZA_JURIDICA\"].astype ('category')\n",
        "df_20[\"NO_LOGRADOURO\"] = df_20[\"NO_LOGRADOURO\"].astype ('category')\n",
        "df_20[\"NU_ENDERECO\"] = df_20[\"NU_ENDERECO\"].astype ('category')\n",
        "df_20[\"NO_BAIRRO\"] = df_20[\"NO_BAIRRO\"].astype ('category')\n",
        "df_20[\"NO_BAIRRO\"] = df_20[\"NO_BAIRRO\"].astype ('category')\n",
        "\n",
        "df_21[\"REGIAO\"] = df_21[\"REGIAO\"].astype ('category')\n",
        "df_21[\"UF\"] = df_21[\"UF\"].astype ('category')\n",
        "df_21[\"MUNICIPIO\"] = df_21[\"MUNICIPIO\"].astype ('category')\n",
        "df_21[\"NOME ESTABELECIMENTO\"] = df_21[\"NOME ESTABELECIMENTO\"].astype ('category')\n",
        "df_21[\"DS_TIPO_UNIDADE\"] = df_21[\"DS_TIPO_UNIDADE\"].astype ('category')\n",
        "df_21[\"DESC_NATUREZA_JURIDICA\"] = df_21[\"DESC_NATUREZA_JURIDICA\"].astype ('category')\n",
        "df_21[\"NO_LOGRADOURO\"] = df_21[\"NO_LOGRADOURO\"].astype ('category')\n",
        "df_21[\"NU_ENDERECO\"] = df_21[\"NU_ENDERECO\"].astype ('category')\n",
        "df_21[\"NO_BAIRRO\"] = df_21[\"NO_BAIRRO\"].astype ('category')\n",
        "df_21[\"NO_BAIRRO\"] = df_21[\"NO_BAIRRO\"].astype ('category')\n",
        "\n",
        "df_22[\"REGIAO\"] = df_22[\"REGIAO\"].astype ('category')\n",
        "df_22[\"UF\"] = df_22[\"UF\"].astype ('category')\n",
        "df_22[\"MUNICIPIO\"] = df_22[\"MUNICIPIO\"].astype ('category')\n",
        "df_22[\"NOME ESTABELECIMENTO\"] = df_22[\"NOME ESTABELECIMENTO\"].astype ('category')\n",
        "df_22[\"DS_TIPO_UNIDADE\"] = df_22[\"DS_TIPO_UNIDADE\"].astype ('category')\n",
        "df_22[\"DESC_NATUREZA_JURIDICA\"] = df_22[\"DESC_NATUREZA_JURIDICA\"].astype ('category')\n",
        "df_22[\"NO_LOGRADOURO\"] = df_22[\"NO_LOGRADOURO\"].astype ('category')\n",
        "df_22[\"NU_ENDERECO\"] = df_22[\"NU_ENDERECO\"].astype ('category')\n",
        "df_22[\"NO_BAIRRO\"] = df_22[\"NO_BAIRRO\"].astype ('category')\n",
        "df_22[\"NO_BAIRRO\"] = df_22[\"NO_BAIRRO\"].astype ('category')"
      ],
      "metadata": {
        "id": "PX8T0N5OKPoV"
      },
      "execution_count": 26,
      "outputs": []
    },
    {
      "cell_type": "code",
      "source": [
        "df_13.dtypes"
      ],
      "metadata": {
        "colab": {
          "base_uri": "https://localhost:8080/"
        },
        "id": "Yt-StimqY07C",
        "outputId": "c6ed509b-7110-46db-f010-8d96e1500d2a"
      },
      "execution_count": 27,
      "outputs": [
        {
          "output_type": "execute_result",
          "data": {
            "text/plain": [
              "REGIAO                    category\n",
              "UF                        category\n",
              "MUNICIPIO                 category\n",
              "NOME ESTABELECIMENTO      category\n",
              "DS_TIPO_UNIDADE           category\n",
              "NATUREZA_JURIDICA            int64\n",
              "DESC_NATUREZA_JURIDICA    category\n",
              "NO_LOGRADOURO             category\n",
              "NU_ENDERECO               category\n",
              "NO_BAIRRO                 category\n",
              "LEITOS EXISTENTE             int64\n",
              "LEITOS SUS                   int64\n",
              "UTI TOTAL - EXIST            int64\n",
              "UTI TOTAL - SUS              int64\n",
              "UTI PEDIATRICO - EXIST       int64\n",
              "UTI PEDIATRICO - SUS         int64\n",
              "dtype: object"
            ]
          },
          "metadata": {},
          "execution_count": 27
        }
      ]
    },
    {
      "cell_type": "code",
      "source": [
        "df_13 = df_13.drop_duplicates()\n",
        "df_14 = df_14.drop_duplicates()\n",
        "df_15 = df_15.drop_duplicates()\n",
        "df_16 = df_16.drop_duplicates()\n",
        "df_17 = df_17.drop_duplicates()\n",
        "df_18 = df_18.drop_duplicates()\n",
        "df_19 = df_19.drop_duplicates()\n",
        "df_20 = df_20.drop_duplicates()\n",
        "df_21 = df_21.drop_duplicates()\n",
        "df_22 = df_22.drop_duplicates()"
      ],
      "metadata": {
        "id": "yNtDAqdKWN-J"
      },
      "execution_count": 28,
      "outputs": []
    },
    {
      "cell_type": "markdown",
      "source": [
        "Neste ponto irei criar uma coluna com o nome 'Ano\" para que possa fazer a junção das tabelas."
      ],
      "metadata": {
        "id": "0sH9MnXLJVUx"
      }
    },
    {
      "cell_type": "code",
      "source": [
        "df_13[\"Ano\"] = 2013\n",
        "df_14[\"Ano\"] = 2014\n",
        "df_15[\"Ano\"] = 2015\n",
        "df_16[\"Ano\"] = 2016\n",
        "df_17[\"Ano\"] = 2017\n",
        "df_18[\"Ano\"] = 2018\n",
        "df_19[\"Ano\"] = 2019\n",
        "df_20[\"Ano\"] = 2020\n",
        "df_21[\"Ano\"] = 2021\n",
        "df_22[\"Ano\"] = 2022"
      ],
      "metadata": {
        "id": "zKvD5wn9G7UI"
      },
      "execution_count": 29,
      "outputs": []
    },
    {
      "cell_type": "markdown",
      "source": [
        "Junção das tabelas."
      ],
      "metadata": {
        "id": "_3-NYgc9uBIz"
      }
    },
    {
      "cell_type": "code",
      "source": [
        "df_leitos = pd.concat([df_13,df_14,df_15,df_16,df_17,df_18,df_19,df_20,df_21,df_22])"
      ],
      "metadata": {
        "id": "q5Cabkp6gumM"
      },
      "execution_count": 30,
      "outputs": []
    },
    {
      "cell_type": "markdown",
      "source": [
        "Qual Regiao possui o maior numero de leitos publicos"
      ],
      "metadata": {
        "id": "bCo4dQo8O-ne"
      }
    },
    {
      "cell_type": "code",
      "source": [
        "data_01_total = df_leitos.groupby('REGIAO')['LEITOS SUS'].sum()\n",
        "regiao_mais_leitos = data_01_total.idxmax()\n",
        "print(\"Região Com o Maior Número de leitos Públicos :\", regiao_mais_leitos)"
      ],
      "metadata": {
        "colab": {
          "base_uri": "https://localhost:8080/"
        },
        "id": "yqxT3KpRO3Aa",
        "outputId": "b9966b54-de55-4295-9d98-e217a51396b6"
      },
      "execution_count": 31,
      "outputs": [
        {
          "output_type": "stream",
          "name": "stdout",
          "text": [
            "Região Com o Maior Número de leitos Públicos : SUDESTE\n"
          ]
        }
      ]
    },
    {
      "cell_type": "code",
      "source": [
        "cidades = df_leitos.groupby('MUNICIPIO')['LEITOS SUS'].sum()\n",
        "cidade_mais_leitos = cidades.idxmax()\n",
        "print(\"Cidade Com o MAIOR Número de leitos Públicos :\", cidade_mais_leitos)"
      ],
      "metadata": {
        "colab": {
          "base_uri": "https://localhost:8080/"
        },
        "id": "XgkaK2D8sjUM",
        "outputId": "3618dc94-4f1b-48ca-a284-f8861079bfc2"
      },
      "execution_count": 32,
      "outputs": [
        {
          "output_type": "stream",
          "name": "stdout",
          "text": [
            "Cidade Com o MAIOR Número de leitos Públicos : SAO PAULO\n"
          ]
        }
      ]
    },
    {
      "cell_type": "code",
      "source": [
        "cidade_menos_leitos = cidades.idxmin()\n",
        "print(\"Cidade Com o MENOR Número de leitos Públicos :\", cidade_menos_leitos)"
      ],
      "metadata": {
        "colab": {
          "base_uri": "https://localhost:8080/"
        },
        "id": "A0XOKgb7tgXB",
        "outputId": "9b1d06eb-7194-4cfc-fe84-27ab8327b569"
      },
      "execution_count": 33,
      "outputs": [
        {
          "output_type": "stream",
          "name": "stdout",
          "text": [
            "Cidade Com o MENOR Número de leitos Públicos : BOA VENTURA\n"
          ]
        }
      ]
    },
    {
      "cell_type": "code",
      "source": [
        "data_01_total.sort_values(ascending=False)"
      ],
      "metadata": {
        "colab": {
          "base_uri": "https://localhost:8080/"
        },
        "id": "etvYDKJkQqy1",
        "outputId": "42b1efcd-a546-4c3d-91cc-c008ff4706f8"
      },
      "execution_count": 34,
      "outputs": [
        {
          "output_type": "execute_result",
          "data": {
            "text/plain": [
              "REGIAO\n",
              "SUDESTE         2939853\n",
              "NORDESTE        1981391\n",
              "SUL             1329864\n",
              "CENTRO-OESTE     628094\n",
              "NORTE            582456\n",
              "Name: LEITOS SUS, dtype: int64"
            ]
          },
          "metadata": {},
          "execution_count": 34
        }
      ]
    },
    {
      "cell_type": "markdown",
      "source": [
        "Total de Numeros de leitos por regiao e por ano."
      ],
      "metadata": {
        "id": "e14Jlqg5hH3u"
      }
    },
    {
      "cell_type": "code",
      "source": [
        "data_02_total = df_leitos.groupby('Ano')['LEITOS SUS'].sum()\n",
        "\n",
        "plt.figure(figsize=(20,6))\n",
        "data_02_total.plot(x = 'Ano', y= \"LEITOS SUS\", color = 'blue')\n",
        "plt.title('Numeros de Leitos Por Ano')\n",
        "plt.show()"
      ],
      "metadata": {
        "colab": {
          "base_uri": "https://localhost:8080/",
          "height": 500
        },
        "id": "ae5z2IuAhG6j",
        "outputId": "c515475a-2d60-427d-de75-569fd0574983"
      },
      "execution_count": 35,
      "outputs": [
        {
          "output_type": "display_data",
          "data": {
            "text/plain": [
              "<Figure size 2000x600 with 1 Axes>"
            ],
            "image/png": "[encoded data removed]"
          },
          "metadata": {}
        }
      ]
    },
    {
      "cell_type": "markdown",
      "source": [
        "Total de numeros de leitos por estado."
      ],
      "metadata": {
        "id": "YUf4KRdasWWY"
      }
    },
    {
      "cell_type": "code",
      "source": [
        "data_03_total = df_leitos.groupby('UF')['LEITOS SUS'].sum().reset_index()\n",
        "\n",
        "plt.figure(figsize= (16,6))\n",
        "sns.barplot(data = data_03_total, y = 'LEITOS SUS', x = 'UF').set(title =  'Valor de Leitos Por Estado')\n",
        "plt.xticks(rotation = 80)\n",
        "plt.show()"
      ],
      "metadata": {
        "colab": {
          "base_uri": "https://localhost:8080/",
          "height": 575
        },
        "id": "G8s1lIC1oOD7",
        "outputId": "246aae93-2208-4a6b-f3c3-3a26572721f6"
      },
      "execution_count": 36,
      "outputs": [
        {
          "output_type": "display_data",
          "data": {
            "text/plain": [
              "<Figure size 1600x600 with 1 Axes>"
            ],
            "image/png": "[encoded data removed]"
          },
          "metadata": {}
        }
      ]
    }
  ]
}