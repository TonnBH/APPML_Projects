{
  "nbformat": 4,
  "nbformat_minor": 0,
  "metadata": {
    "colab": {
      "provenance": [],
      "mount_file_id": "1FBxoPzdR7eZKBTTerJ0zVMRueBpnFL5P",
      "authorship_tag": "ABX9TyMOuCPFu5tQ6oBmBTHCEX0v",
      "include_colab_link": true
    },
    "kernelspec": {
      "name": "python3",
      "display_name": "Python 3"
    },
    "language_info": {
      "name": "python"
    }
  },
  "cells": [
    {
      "cell_type": "markdown",
      "metadata": {
        "id": "view-in-github",
        "colab_type": "text"
      },
      "source": [
        "<a href=\"https://colab.research.google.com/github/TonnBH/APPML_Projects/blob/main/SUS_project.ipynb\" target=\"_parent\"><img src=\"https://colab.research.google.com/assets/colab-badge.svg\" alt=\"Open In Colab\"/></a>"
      ]
    },
    {
      "cell_type": "markdown",
      "source": [
        "## Número de Leitos Disponiveis Pelos SUS nos Ultimos Cinco Anos"
      ],
      "metadata": {
        "id": "57YWOa1qqy1a"
      }
    },
    {
      "cell_type": "markdown",
      "source": [
        "A inteção deste projeto é fazer uma comparação com o número de leitos no sistema unico de Saude, o SUS com o objetivo de comparar e saber sobre os investimentos em leitos no ultimos anos pelos ultimos governos."
      ],
      "metadata": {
        "id": "qP16v6m9rhDU"
      }
    },
    {
      "cell_type": "code",
      "execution_count": 299,
      "metadata": {
        "id": "QW9YUx4Oo6s6"
      },
      "outputs": [],
      "source": [
        "import pandas as pd"
      ]
    },
    {
      "cell_type": "code",
      "source": [
        "from google.colab import files"
      ],
      "metadata": {
        "id": "UGN6sVf8vRZm"
      },
      "execution_count": 300,
      "outputs": []
    },
    {
      "cell_type": "markdown",
      "source": [
        "A minha intenção é importar cada banco de dados separadamente por ano, para podermos obter mais informações que sejam relevantes para o projeto; e tambem excluir colunas que não tenham relevancia."
      ],
      "metadata": {
        "id": "C3l25lQaxfFK"
      }
    },
    {
      "cell_type": "code",
      "source": [
        "#df_23 = pd.read_csv('/content/drive/MyDrive/ML_Projects/SUS_Project/Datasets/Leitos/Leitos_2023.csv',sep=',',index_col=\"COMP\")\n",
        "df_22 = pd.read_csv('/content/drive/MyDrive/ML_Projects/SUS_Project/Datasets/Leitos/Leitos_2022.csv', sep=',',index_col=\"COMP\")\n",
        "df_21 = pd.read_csv('/content/drive/MyDrive/ML_Projects/SUS_Project/Datasets/Leitos/Leitos_2021.csv', sep=',',index_col=\"COMP\")\n",
        "df_20 = pd.read_csv('/content/drive/MyDrive/ML_Projects/SUS_Project/Datasets/Leitos/Leitos_2020.csv', sep=',',index_col=\"COMP\")\n",
        "df_19 = pd.read_csv('/content/drive/MyDrive/ML_Projects/SUS_Project/Datasets/Leitos/Leitos_2019.csv', sep=',',index_col=\"COMP\")\n",
        "df_18 = pd.read_csv('/content/drive/MyDrive/ML_Projects/SUS_Project/Datasets/Leitos/Leitos_2018.csv', sep=',',index_col=\"COMP\")\n",
        "df_17 = pd.read_csv('/content/drive/MyDrive/ML_Projects/SUS_Project/Datasets/Leitos/Leitos_2017.csv', sep=',',index_col=\"COMP\")\n",
        "df_16 = pd.read_csv('/content/drive/MyDrive/ML_Projects/SUS_Project/Datasets/Leitos/Leitos_2016.csv', sep=',',index_col=\"COMP\")\n",
        "df_15 = pd.read_csv('/content/drive/MyDrive/ML_Projects/SUS_Project/Datasets/Leitos/Leitos_2015.csv', sep=',',index_col=\"COMP\")\n",
        "df_14 = pd.read_csv('/content/drive/MyDrive/ML_Projects/SUS_Project/Datasets/Leitos/Leitos_2014.csv', sep=',',index_col=\"COMP\")\n",
        "df_13 = pd.read_csv('/content/drive/MyDrive/ML_Projects/SUS_Project/Datasets/Leitos/Leitos_2013.csv', sep=',',index_col=\"COMP\")"
      ],
      "metadata": {
        "id": "GB_QiBUAtZGI"
      },
      "execution_count": 301,
      "outputs": []
    },
    {
      "cell_type": "markdown",
      "source": [
        "Eliminando colunas desnecessarias"
      ],
      "metadata": {
        "id": "rqVfyfZEGxbX"
      }
    },
    {
      "cell_type": "code",
      "source": [
        "df_13.drop([\"RAZAO SOCIAL\", \"TP_GESTAO\",\"CO_TIPO_UNIDADE\",\"CNES\",\"CO_CEP\",\"NO_EMAIL\",\"NU_TELEFONE\",\"NU_ENDERECO\",\"NO_COMPLEMENTO\",\"MOTIVO DESABILITACAO\",\"UTI ADULTO - EXIST\",\"UTI ADULTO - SUS\",\"UTI NEONATAL - EXIST\",\"UTI NEONATAL - SUS\",\"UTI QUEIMADO - EXIST\",\"UTI QUEIMADO - SUS\",\"UTI CORONARIANA - EXIST\",\"UTI CORONARIANA - SUS\"], axis=1, inplace=True)\n",
        "df_14.drop([\"RAZAO SOCIAL\", \"TP_GESTAO\",\"CO_TIPO_UNIDADE\",\"CNES\",\"CO_CEP\",\"NO_EMAIL\",\"NU_TELEFONE\",\"NU_ENDERECO\",\"NO_COMPLEMENTO\",\"MOTIVO DESABILITACAO\",\"UTI ADULTO - EXIST\",\"UTI ADULTO - SUS\",\"UTI NEONATAL - EXIST\",\"UTI NEONATAL - SUS\",\"UTI QUEIMADO - EXIST\",\"UTI QUEIMADO - SUS\",\"UTI CORONARIANA - EXIST\",\"UTI CORONARIANA - SUS\"], axis=1, inplace=True)\n",
        "df_15.drop([\"RAZAO SOCIAL\", \"TP_GESTAO\",\"CO_TIPO_UNIDADE\",\"CNES\",\"CO_CEP\",\"NO_EMAIL\",\"NU_TELEFONE\",\"NU_ENDERECO\",\"NO_COMPLEMENTO\",\"MOTIVO DESABILITACAO\",\"UTI ADULTO - EXIST\",\"UTI ADULTO - SUS\",\"UTI NEONATAL - EXIST\",\"UTI NEONATAL - SUS\",\"UTI QUEIMADO - EXIST\",\"UTI QUEIMADO - SUS\",\"UTI CORONARIANA - EXIST\",\"UTI CORONARIANA - SUS\"], axis=1, inplace=True)\n",
        "df_16.drop([\"RAZAO SOCIAL\", \"TP_GESTAO\",\"CO_TIPO_UNIDADE\",\"CNES\",\"CO_CEP\",\"NO_EMAIL\",\"NU_TELEFONE\",\"NU_ENDERECO\",\"NO_COMPLEMENTO\",\"MOTIVO DESABILITACAO\",\"UTI ADULTO - EXIST\",\"UTI ADULTO - SUS\",\"UTI NEONATAL - EXIST\",\"UTI NEONATAL - SUS\",\"UTI QUEIMADO - EXIST\",\"UTI QUEIMADO - SUS\",\"UTI CORONARIANA - EXIST\",\"UTI CORONARIANA - SUS\"], axis=1, inplace=True)\n",
        "df_17.drop([\"RAZAO SOCIAL\", \"TP_GESTAO\",\"CO_TIPO_UNIDADE\",\"CNES\",\"CO_CEP\",\"NO_EMAIL\",\"NU_TELEFONE\",\"NU_ENDERECO\",\"NO_COMPLEMENTO\",\"MOTIVO DESABILITACAO\",\"UTI ADULTO - EXIST\",\"UTI ADULTO - SUS\",\"UTI NEONATAL - EXIST\",\"UTI NEONATAL - SUS\",\"UTI QUEIMADO - EXIST\",\"UTI QUEIMADO - SUS\",\"UTI CORONARIANA - EXIST\",\"UTI CORONARIANA - SUS\"], axis=1, inplace=True)\n",
        "df_18.drop([\"RAZAO SOCIAL\", \"TP_GESTAO\",\"CO_TIPO_UNIDADE\",\"CNES\",\"CO_CEP\",\"NO_EMAIL\",\"NU_TELEFONE\",\"NU_ENDERECO\",\"NO_COMPLEMENTO\",\"MOTIVO DESABILITACAO\",\"UTI ADULTO - EXIST\",\"UTI ADULTO - SUS\",\"UTI NEONATAL - EXIST\",\"UTI NEONATAL - SUS\",\"UTI QUEIMADO - EXIST\",\"UTI QUEIMADO - SUS\",\"UTI CORONARIANA - EXIST\",\"UTI CORONARIANA - SUS\"], axis=1, inplace=True)\n",
        "df_19.drop([\"RAZAO SOCIAL\", \"TP_GESTAO\",\"CO_TIPO_UNIDADE\",\"CNES\",\"CO_CEP\",\"NO_EMAIL\",\"NU_TELEFONE\",\"NU_ENDERECO\",\"NO_COMPLEMENTO\",\"MOTIVO DESABILITACAO\",\"UTI ADULTO - EXIST\",\"UTI ADULTO - SUS\",\"UTI NEONATAL - EXIST\",\"UTI NEONATAL - SUS\",\"UTI QUEIMADO - EXIST\",\"UTI QUEIMADO - SUS\",\"UTI CORONARIANA - EXIST\",\"UTI CORONARIANA - SUS\"], axis=1, inplace=True)\n",
        "df_20.drop([\"RAZAO SOCIAL\", \"TP_GESTAO\",\"CO_TIPO_UNIDADE\",\"CNES\",\"CO_CEP\",\"NO_EMAIL\",\"NU_TELEFONE\",\"NU_ENDERECO\",\"NO_COMPLEMENTO\",\"MOTIVO DESABILITACAO\",\"UTI ADULTO - EXIST\",\"UTI ADULTO - SUS\",\"UTI NEONATAL - EXIST\",\"UTI NEONATAL - SUS\",\"UTI QUEIMADO - EXIST\",\"UTI QUEIMADO - SUS\",\"UTI CORONARIANA - EXIST\",\"UTI CORONARIANA - SUS\"], axis=1, inplace=True)\n",
        "df_21.drop([\"RAZAO SOCIAL\", \"TP_GESTAO\",\"CO_TIPO_UNIDADE\",\"CNES\",\"CO_CEP\",\"NO_EMAIL\",\"NU_TELEFONE\",\"NU_ENDERECO\",\"NO_COMPLEMENTO\",\"MOTIVO DESABILITACAO\",\"UTI ADULTO - EXIST\",\"UTI ADULTO - SUS\",\"UTI NEONATAL - EXIST\",\"UTI NEONATAL - SUS\",\"UTI QUEIMADO - EXIST\",\"UTI QUEIMADO - SUS\",\"UTI CORONARIANA - EXIST\",\"UTI CORONARIANA - SUS\"], axis=1, inplace=True)\n",
        "df_22.drop([\"RAZAO SOCIAL\", \"TP_GESTAO\",\"CO_TIPO_UNIDADE\",\"CNES\",\"CO_CEP\",\"NO_EMAIL\",\"NU_TELEFONE\",\"NU_ENDERECO\",\"NO_COMPLEMENTO\",\"MOTIVO DESABILITACAO\",\"UTI ADULTO - EXIST\",\"UTI ADULTO - SUS\",\"UTI NEONATAL - EXIST\",\"UTI NEONATAL - SUS\",\"UTI QUEIMADO - EXIST\",\"UTI QUEIMADO - SUS\",\"UTI CORONARIANA - EXIST\",\"UTI CORONARIANA - SUS\"], axis=1, inplace=True)"
      ],
      "metadata": {
        "id": "DiPVrPFPDNnV"
      },
      "execution_count": 302,
      "outputs": []
    },
    {
      "cell_type": "code",
      "source": [
        "df_13.columns"
      ],
      "metadata": {
        "colab": {
          "base_uri": "https://localhost:8080/"
        },
        "id": "bLDgCQY1eKnb",
        "outputId": "7104fa3f-4773-4349-842a-4c0d9c93c905"
      },
      "execution_count": 303,
      "outputs": [
        {
          "output_type": "execute_result",
          "data": {
            "text/plain": [
              "Index(['REGIAO', 'UF', 'MUNICIPIO', 'NOME ESTABELECIMENTO', 'DS_TIPO_UNIDADE',\n",
              "       'NATUREZA_JURIDICA', 'DESC_NATUREZA_JURIDICA', 'NO_LOGRADOURO',\n",
              "       'NO_BAIRRO', 'LEITOS EXISTENTE', 'LEITOS SUS', 'UTI TOTAL - EXIST',\n",
              "       'UTI TOTAL - SUS', 'UTI PEDIATRICO - EXIST', 'UTI PEDIATRICO - SUS'],\n",
              "      dtype='object')"
            ]
          },
          "metadata": {},
          "execution_count": 303
        }
      ]
    },
    {
      "cell_type": "code",
      "source": [
        "df_13.dtypes"
      ],
      "metadata": {
        "colab": {
          "base_uri": "https://localhost:8080/"
        },
        "id": "qdFKc6gNWboo",
        "outputId": "8a8ca52f-9a12-4eb8-f2fc-812a68be5e9c"
      },
      "execution_count": 304,
      "outputs": [
        {
          "output_type": "execute_result",
          "data": {
            "text/plain": [
              "REGIAO                    object\n",
              "UF                        object\n",
              "MUNICIPIO                 object\n",
              "NOME ESTABELECIMENTO      object\n",
              "DS_TIPO_UNIDADE           object\n",
              "NATUREZA_JURIDICA          int64\n",
              "DESC_NATUREZA_JURIDICA    object\n",
              "NO_LOGRADOURO             object\n",
              "NO_BAIRRO                 object\n",
              "LEITOS EXISTENTE           int64\n",
              "LEITOS SUS                 int64\n",
              "UTI TOTAL - EXIST          int64\n",
              "UTI TOTAL - SUS            int64\n",
              "UTI PEDIATRICO - EXIST     int64\n",
              "UTI PEDIATRICO - SUS       int64\n",
              "dtype: object"
            ]
          },
          "metadata": {},
          "execution_count": 304
        }
      ]
    },
    {
      "cell_type": "code",
      "source": [
        "df_13.shape"
      ],
      "metadata": {
        "colab": {
          "base_uri": "https://localhost:8080/"
        },
        "id": "qPDKcoQVZh73",
        "outputId": "9f3a7f1f-dc08-425a-e3fa-6c953b2883e5"
      },
      "execution_count": 305,
      "outputs": [
        {
          "output_type": "execute_result",
          "data": {
            "text/plain": [
              "(86183, 15)"
            ]
          },
          "metadata": {},
          "execution_count": 305
        }
      ]
    },
    {
      "cell_type": "markdown",
      "source": [
        "Neste passo vou otimizar memoria alterando os tipos objetos para o tipo categoria\n",
        "\n",
        "REGIAO tipo  object = 5524033 memory usage,       \n",
        "       REGIAO tipo  category = 86675 memory usage"
      ],
      "metadata": {
        "id": "6jpiPQ-aKQrt"
      }
    },
    {
      "cell_type": "code",
      "source": [
        "df_13[\"REGIAO\"] = df_13[\"REGIAO\"].astype ('category')\n",
        "df_13[\"UF\"] = df_13[\"UF\"].astype ('category')\n",
        "df_13[\"MUNICIPIO\"] = df_13[\"MUNICIPIO\"].astype ('category')\n",
        "df_13[\"NOME ESTABELECIMENTO\"] = df_13[\"NOME ESTABELECIMENTO\"].astype ('category')\n",
        "df_13[\"DS_TIPO_UNIDADE\"] = df_13[\"DS_TIPO_UNIDADE\"].astype ('category')\n",
        "df_13[\"DESC_NATUREZA_JURIDICA\"] = df_13[\"DESC_NATUREZA_JURIDICA\"].astype ('category')\n",
        "df_13[\"NO_LOGRADOURO\"] = df_13[\"NO_LOGRADOURO\"].astype ('category')\n",
        "df_13[\"NO_BAIRRO\"] = df_13[\"NO_BAIRRO\"].astype ('category')\n",
        "df_13[\"NO_BAIRRO\"] = df_13[\"NO_BAIRRO\"].astype ('category')\n",
        "\n",
        "df_14[\"REGIAO\"] = df_14[\"REGIAO\"].astype ('category')\n",
        "df_14[\"UF\"] = df_14[\"UF\"].astype ('category')\n",
        "df_14[\"MUNICIPIO\"] = df_14[\"MUNICIPIO\"].astype ('category')\n",
        "df_14[\"NOME ESTABELECIMENTO\"] = df_14[\"NOME ESTABELECIMENTO\"].astype ('category')\n",
        "df_14[\"DS_TIPO_UNIDADE\"] = df_14[\"DS_TIPO_UNIDADE\"].astype ('category')\n",
        "df_14[\"DESC_NATUREZA_JURIDICA\"] = df_14[\"DESC_NATUREZA_JURIDICA\"].astype ('category')\n",
        "df_14[\"NO_LOGRADOURO\"] = df_14[\"NO_LOGRADOURO\"].astype ('category')\n",
        "df_14[\"NO_BAIRRO\"] = df_14[\"NO_BAIRRO\"].astype ('category')\n",
        "df_14[\"NO_BAIRRO\"] = df_14[\"NO_BAIRRO\"].astype ('category')\n",
        "\n",
        "df_15[\"REGIAO\"] = df_15[\"REGIAO\"].astype ('category')\n",
        "df_15[\"UF\"] = df_15[\"UF\"].astype ('category')\n",
        "df_15[\"MUNICIPIO\"] = df_15[\"MUNICIPIO\"].astype ('category')\n",
        "df_15[\"NOME ESTABELECIMENTO\"] = df_15[\"NOME ESTABELECIMENTO\"].astype ('category')\n",
        "df_15[\"DS_TIPO_UNIDADE\"] = df_15[\"DS_TIPO_UNIDADE\"].astype ('category')\n",
        "df_15[\"DESC_NATUREZA_JURIDICA\"] = df_15[\"DESC_NATUREZA_JURIDICA\"].astype ('category')\n",
        "df_15[\"NO_LOGRADOURO\"] = df_15[\"NO_LOGRADOURO\"].astype ('category')\n",
        "df_15[\"NO_BAIRRO\"] = df_15[\"NO_BAIRRO\"].astype ('category')\n",
        "df_15[\"NO_BAIRRO\"] = df_15[\"NO_BAIRRO\"].astype ('category')\n",
        "\n",
        "df_16[\"REGIAO\"] = df_16[\"REGIAO\"].astype ('category')\n",
        "df_16[\"UF\"] = df_16[\"UF\"].astype ('category')\n",
        "df_16[\"MUNICIPIO\"] = df_16[\"MUNICIPIO\"].astype ('category')\n",
        "df_16[\"NOME ESTABELECIMENTO\"] = df_16[\"NOME ESTABELECIMENTO\"].astype ('category')\n",
        "df_16[\"DS_TIPO_UNIDADE\"] = df_16[\"DS_TIPO_UNIDADE\"].astype ('category')\n",
        "df_16[\"DESC_NATUREZA_JURIDICA\"] = df_16[\"DESC_NATUREZA_JURIDICA\"].astype ('category')\n",
        "df_16[\"NO_LOGRADOURO\"] = df_16[\"NO_LOGRADOURO\"].astype ('category')\n",
        "df_16[\"NO_BAIRRO\"] = df_16[\"NO_BAIRRO\"].astype ('category')\n",
        "df_16[\"NO_BAIRRO\"] = df_16[\"NO_BAIRRO\"].astype ('category')\n",
        "\n",
        "df_17[\"REGIAO\"] = df_17[\"REGIAO\"].astype ('category')\n",
        "df_17[\"UF\"] = df_17[\"UF\"].astype ('category')\n",
        "df_17[\"MUNICIPIO\"] = df_17[\"MUNICIPIO\"].astype ('category')\n",
        "df_17[\"NOME ESTABELECIMENTO\"] = df_17[\"NOME ESTABELECIMENTO\"].astype ('category')\n",
        "df_17[\"DS_TIPO_UNIDADE\"] = df_17[\"DS_TIPO_UNIDADE\"].astype ('category')\n",
        "df_17[\"DESC_NATUREZA_JURIDICA\"] = df_17[\"DESC_NATUREZA_JURIDICA\"].astype ('category')\n",
        "df_17[\"NO_LOGRADOURO\"] = df_17[\"NO_LOGRADOURO\"].astype ('category')\n",
        "df_17[\"NO_BAIRRO\"] = df_17[\"NO_BAIRRO\"].astype ('category')\n",
        "df_17[\"NO_BAIRRO\"] = df_17[\"NO_BAIRRO\"].astype ('category')\n",
        "\n",
        "df_18[\"REGIAO\"] = df_18[\"REGIAO\"].astype ('category')\n",
        "df_18[\"UF\"] = df_18[\"UF\"].astype ('category')\n",
        "df_18[\"MUNICIPIO\"] = df_18[\"MUNICIPIO\"].astype ('category')\n",
        "df_18[\"NOME ESTABELECIMENTO\"] = df_18[\"NOME ESTABELECIMENTO\"].astype ('category')\n",
        "df_18[\"DS_TIPO_UNIDADE\"] = df_18[\"DS_TIPO_UNIDADE\"].astype ('category')\n",
        "df_18[\"DESC_NATUREZA_JURIDICA\"] = df_18[\"DESC_NATUREZA_JURIDICA\"].astype ('category')\n",
        "df_18[\"NO_LOGRADOURO\"] = df_18[\"NO_LOGRADOURO\"].astype ('category')\n",
        "df_18[\"NO_BAIRRO\"] = df_18[\"NO_BAIRRO\"].astype ('category')\n",
        "df_18[\"NO_BAIRRO\"] = df_18[\"NO_BAIRRO\"].astype ('category')\n",
        "\n",
        "df_19[\"REGIAO\"] = df_19[\"REGIAO\"].astype ('category')\n",
        "df_19[\"UF\"] = df_19[\"UF\"].astype ('category')\n",
        "df_19[\"MUNICIPIO\"] = df_19[\"MUNICIPIO\"].astype ('category')\n",
        "df_19[\"NOME ESTABELECIMENTO\"] = df_19[\"NOME ESTABELECIMENTO\"].astype ('category')\n",
        "df_19[\"DS_TIPO_UNIDADE\"] = df_19[\"DS_TIPO_UNIDADE\"].astype ('category')\n",
        "df_19[\"DESC_NATUREZA_JURIDICA\"] = df_19[\"DESC_NATUREZA_JURIDICA\"].astype ('category')\n",
        "df_19[\"NO_LOGRADOURO\"] = df_19[\"NO_LOGRADOURO\"].astype ('category')\n",
        "df_19[\"NO_BAIRRO\"] = df_19[\"NO_BAIRRO\"].astype ('category')\n",
        "df_19[\"NO_BAIRRO\"] = df_19[\"NO_BAIRRO\"].astype ('category')\n",
        "\n",
        "df_20[\"REGIAO\"] = df_20[\"REGIAO\"].astype ('category')\n",
        "df_20[\"UF\"] = df_20[\"UF\"].astype ('category')\n",
        "df_20[\"MUNICIPIO\"] = df_20[\"MUNICIPIO\"].astype ('category')\n",
        "df_20[\"NOME ESTABELECIMENTO\"] = df_20[\"NOME ESTABELECIMENTO\"].astype ('category')\n",
        "df_20[\"DS_TIPO_UNIDADE\"] = df_20[\"DS_TIPO_UNIDADE\"].astype ('category')\n",
        "df_20[\"DESC_NATUREZA_JURIDICA\"] = df_20[\"DESC_NATUREZA_JURIDICA\"].astype ('category')\n",
        "df_20[\"NO_LOGRADOURO\"] = df_20[\"NO_LOGRADOURO\"].astype ('category')\n",
        "df_20[\"NO_BAIRRO\"] = df_20[\"NO_BAIRRO\"].astype ('category')\n",
        "df_20[\"NO_BAIRRO\"] = df_20[\"NO_BAIRRO\"].astype ('category')\n",
        "\n",
        "df_21[\"REGIAO\"] = df_21[\"REGIAO\"].astype ('category')\n",
        "df_21[\"UF\"] = df_21[\"UF\"].astype ('category')\n",
        "df_21[\"MUNICIPIO\"] = df_21[\"MUNICIPIO\"].astype ('category')\n",
        "df_21[\"NOME ESTABELECIMENTO\"] = df_21[\"NOME ESTABELECIMENTO\"].astype ('category')\n",
        "df_21[\"DS_TIPO_UNIDADE\"] = df_21[\"DS_TIPO_UNIDADE\"].astype ('category')\n",
        "df_21[\"DESC_NATUREZA_JURIDICA\"] = df_21[\"DESC_NATUREZA_JURIDICA\"].astype ('category')\n",
        "df_21[\"NO_LOGRADOURO\"] = df_21[\"NO_LOGRADOURO\"].astype ('category')\n",
        "df_21[\"NO_BAIRRO\"] = df_21[\"NO_BAIRRO\"].astype ('category')\n",
        "df_21[\"NO_BAIRRO\"] = df_21[\"NO_BAIRRO\"].astype ('category')\n",
        "\n",
        "df_22[\"REGIAO\"] = df_22[\"REGIAO\"].astype ('category')\n",
        "df_22[\"UF\"] = df_22[\"UF\"].astype ('category')\n",
        "df_22[\"MUNICIPIO\"] = df_22[\"MUNICIPIO\"].astype ('category')\n",
        "df_22[\"NOME ESTABELECIMENTO\"] = df_22[\"NOME ESTABELECIMENTO\"].astype ('category')\n",
        "df_22[\"DS_TIPO_UNIDADE\"] = df_22[\"DS_TIPO_UNIDADE\"].astype ('category')\n",
        "df_22[\"DESC_NATUREZA_JURIDICA\"] = df_22[\"DESC_NATUREZA_JURIDICA\"].astype ('category')\n",
        "df_22[\"NO_LOGRADOURO\"] = df_22[\"NO_LOGRADOURO\"].astype ('category')\n",
        "df_22[\"NO_BAIRRO\"] = df_22[\"NO_BAIRRO\"].astype ('category')\n",
        "df_22[\"NO_BAIRRO\"] = df_22[\"NO_BAIRRO\"].astype ('category')"
      ],
      "metadata": {
        "id": "PX8T0N5OKPoV"
      },
      "execution_count": 306,
      "outputs": []
    },
    {
      "cell_type": "code",
      "source": [
        "df_13.shape"
      ],
      "metadata": {
        "colab": {
          "base_uri": "https://localhost:8080/"
        },
        "id": "Yt-StimqY07C",
        "outputId": "a79563a8-e170-4a55-da57-ba4458beb99c"
      },
      "execution_count": 307,
      "outputs": [
        {
          "output_type": "execute_result",
          "data": {
            "text/plain": [
              "(86183, 15)"
            ]
          },
          "metadata": {},
          "execution_count": 307
        }
      ]
    },
    {
      "cell_type": "code",
      "source": [
        "df_13 = df_13.drop_duplicates()\n",
        "df_14 = df_14.drop_duplicates()\n",
        "df_15 = df_15.drop_duplicates()\n",
        "df_16 = df_16.drop_duplicates()\n",
        "df_17 = df_17.drop_duplicates()\n",
        "df_18 = df_18.drop_duplicates()\n",
        "df_19 = df_19.drop_duplicates()\n",
        "df_20 = df_20.drop_duplicates()\n",
        "df_21 = df_21.drop_duplicates()\n",
        "df_22 = df_22.drop_duplicates()"
      ],
      "metadata": {
        "id": "yNtDAqdKWN-J"
      },
      "execution_count": 308,
      "outputs": []
    },
    {
      "cell_type": "code",
      "source": [
        "df_13.head()"
      ],
      "metadata": {
        "colab": {
          "base_uri": "https://localhost:8080/",
          "height": 596
        },
        "id": "G7sx9s1FamoG",
        "outputId": "51b0bd15-aa31-4efd-fd5b-3d34ecb6c06b"
      },
      "execution_count": 309,
      "outputs": [
        {
          "output_type": "execute_result",
          "data": {
            "text/plain": [
              "          REGIAO  UF                MUNICIPIO  \\\n",
              "COMP                                            \n",
              "201301  NORDESTE  PE  CABO DE SANTO AGOSTINHO   \n",
              "201301  NORDESTE  PE  CABO DE SANTO AGOSTINHO   \n",
              "201301  NORDESTE  PE  CABO DE SANTO AGOSTINHO   \n",
              "201301  NORDESTE  PE  CABO DE SANTO AGOSTINHO   \n",
              "201301  NORDESTE  PE  CABO DE SANTO AGOSTINHO   \n",
              "\n",
              "                          NOME ESTABELECIMENTO         DS_TIPO_UNIDADE  \\\n",
              "COMP                                                                     \n",
              "201301              CASA DE SAUDE SANTA HELENA          HOSPITAL GERAL   \n",
              "201301                  HOSPITAL MENDO SAMPAIO          HOSPITAL GERAL   \n",
              "201301  MATERNIDADE PADRE GERALDO LEITE BASTOS  HOSPITAL ESPECIALIZADO   \n",
              "201301                     HOSPITAL SAMARITANO          HOSPITAL GERAL   \n",
              "201301                  HOSPITAL SAO SEBASTIAO          HOSPITAL GERAL   \n",
              "\n",
              "        NATUREZA_JURIDICA DESC_NATUREZA_JURIDICA  \\\n",
              "COMP                                               \n",
              "201301               2062       HOSPITAL_PRIVADO   \n",
              "201301               1031       HOSPITAL_PUBLICO   \n",
              "201301               1031       HOSPITAL_PUBLICO   \n",
              "201301               2062       HOSPITAL_PRIVADO   \n",
              "201301               2240       HOSPITAL_PRIVADO   \n",
              "\n",
              "                        NO_LOGRADOURO            NO_BAIRRO  LEITOS EXISTENTE  \\\n",
              "COMP                                                                           \n",
              "201301  AVN PRESIDENTE GETULIO VARGAS               CENTRO                64   \n",
              "201301               BR 101 SUL KM 34             CHARNECA                38   \n",
              "201301               BR 101 SUL KM 23  PONTE DOS CARVALHOS                32   \n",
              "201301   RUA SEVERINO BEZERRA MARQUES               CENTRO                47   \n",
              "201301  AVN PRESIDENTE GETULIO VARGAS               CENTRO                45   \n",
              "\n",
              "        LEITOS SUS  UTI TOTAL - EXIST  UTI TOTAL - SUS  \\\n",
              "COMP                                                     \n",
              "201301          56                  0                0   \n",
              "201301          38                  0                0   \n",
              "201301          32                  0                0   \n",
              "201301           0                  0                0   \n",
              "201301           0                  0                0   \n",
              "\n",
              "        UTI PEDIATRICO - EXIST  UTI PEDIATRICO - SUS  \n",
              "COMP                                                  \n",
              "201301                       0                     0  \n",
              "201301                       0                     0  \n",
              "201301                       0                     0  \n",
              "201301                       0                     0  \n",
              "201301                       0                     0  "
            ],
            "text/html": [
              "\n",
              "\n",
              "  <div id=\"df-a4a8c937-30e5-48d5-9c42-59c9567993c5\">\n",
              "    <div class=\"colab-df-container\">\n",
              "      <div>\n",
              "<style scoped>\n",
              "    .dataframe tbody tr th:only-of-type {\n",
              "        vertical-align: middle;\n",
              "    }\n",
              "\n",
              "    .dataframe tbody tr th {\n",
              "        vertical-align: top;\n",
              "    }\n",
              "\n",
              "    .dataframe thead th {\n",
              "        text-align: right;\n",
              "    }\n",
              "</style>\n",
              "<table border=\"1\" class=\"dataframe\">\n",
              "  <thead>\n",
              "    <tr style=\"text-align: right;\">\n",
              "      <th></th>\n",
              "      <th>REGIAO</th>\n",
              "      <th>UF</th>\n",
              "      <th>MUNICIPIO</th>\n",
              "      <th>NOME ESTABELECIMENTO</th>\n",
              "      <th>DS_TIPO_UNIDADE</th>\n",
              "      <th>NATUREZA_JURIDICA</th>\n",
              "      <th>DESC_NATUREZA_JURIDICA</th>\n",
              "      <th>NO_LOGRADOURO</th>\n",
              "      <th>NO_BAIRRO</th>\n",
              "      <th>LEITOS EXISTENTE</th>\n",
              "      <th>LEITOS SUS</th>\n",
              "      <th>UTI TOTAL - EXIST</th>\n",
              "      <th>UTI TOTAL - SUS</th>\n",
              "      <th>UTI PEDIATRICO - EXIST</th>\n",
              "      <th>UTI PEDIATRICO - SUS</th>\n",
              "    </tr>\n",
              "    <tr>\n",
              "      <th>COMP</th>\n",
              "      <th></th>\n",
              "      <th></th>\n",
              "      <th></th>\n",
              "      <th></th>\n",
              "      <th></th>\n",
              "      <th></th>\n",
              "      <th></th>\n",
              "      <th></th>\n",
              "      <th></th>\n",
              "      <th></th>\n",
              "      <th></th>\n",
              "      <th></th>\n",
              "      <th></th>\n",
              "      <th></th>\n",
              "      <th></th>\n",
              "    </tr>\n",
              "  </thead>\n",
              "  <tbody>\n",
              "    <tr>\n",
              "      <th>201301</th>\n",
              "      <td>NORDESTE</td>\n",
              "      <td>PE</td>\n",
              "      <td>CABO DE SANTO AGOSTINHO</td>\n",
              "      <td>CASA DE SAUDE SANTA HELENA</td>\n",
              "      <td>HOSPITAL GERAL</td>\n",
              "      <td>2062</td>\n",
              "      <td>HOSPITAL_PRIVADO</td>\n",
              "      <td>AVN PRESIDENTE GETULIO VARGAS</td>\n",
              "      <td>CENTRO</td>\n",
              "      <td>64</td>\n",
              "      <td>56</td>\n",
              "      <td>0</td>\n",
              "      <td>0</td>\n",
              "      <td>0</td>\n",
              "      <td>0</td>\n",
              "    </tr>\n",
              "    <tr>\n",
              "      <th>201301</th>\n",
              "      <td>NORDESTE</td>\n",
              "      <td>PE</td>\n",
              "      <td>CABO DE SANTO AGOSTINHO</td>\n",
              "      <td>HOSPITAL MENDO SAMPAIO</td>\n",
              "      <td>HOSPITAL GERAL</td>\n",
              "      <td>1031</td>\n",
              "      <td>HOSPITAL_PUBLICO</td>\n",
              "      <td>BR 101 SUL KM 34</td>\n",
              "      <td>CHARNECA</td>\n",
              "      <td>38</td>\n",
              "      <td>38</td>\n",
              "      <td>0</td>\n",
              "      <td>0</td>\n",
              "      <td>0</td>\n",
              "      <td>0</td>\n",
              "    </tr>\n",
              "    <tr>\n",
              "      <th>201301</th>\n",
              "      <td>NORDESTE</td>\n",
              "      <td>PE</td>\n",
              "      <td>CABO DE SANTO AGOSTINHO</td>\n",
              "      <td>MATERNIDADE PADRE GERALDO LEITE BASTOS</td>\n",
              "      <td>HOSPITAL ESPECIALIZADO</td>\n",
              "      <td>1031</td>\n",
              "      <td>HOSPITAL_PUBLICO</td>\n",
              "      <td>BR 101 SUL KM 23</td>\n",
              "      <td>PONTE DOS CARVALHOS</td>\n",
              "      <td>32</td>\n",
              "      <td>32</td>\n",
              "      <td>0</td>\n",
              "      <td>0</td>\n",
              "      <td>0</td>\n",
              "      <td>0</td>\n",
              "    </tr>\n",
              "    <tr>\n",
              "      <th>201301</th>\n",
              "      <td>NORDESTE</td>\n",
              "      <td>PE</td>\n",
              "      <td>CABO DE SANTO AGOSTINHO</td>\n",
              "      <td>HOSPITAL SAMARITANO</td>\n",
              "      <td>HOSPITAL GERAL</td>\n",
              "      <td>2062</td>\n",
              "      <td>HOSPITAL_PRIVADO</td>\n",
              "      <td>RUA SEVERINO BEZERRA MARQUES</td>\n",
              "      <td>CENTRO</td>\n",
              "      <td>47</td>\n",
              "      <td>0</td>\n",
              "      <td>0</td>\n",
              "      <td>0</td>\n",
              "      <td>0</td>\n",
              "      <td>0</td>\n",
              "    </tr>\n",
              "    <tr>\n",
              "      <th>201301</th>\n",
              "      <td>NORDESTE</td>\n",
              "      <td>PE</td>\n",
              "      <td>CABO DE SANTO AGOSTINHO</td>\n",
              "      <td>HOSPITAL SAO SEBASTIAO</td>\n",
              "      <td>HOSPITAL GERAL</td>\n",
              "      <td>2240</td>\n",
              "      <td>HOSPITAL_PRIVADO</td>\n",
              "      <td>AVN PRESIDENTE GETULIO VARGAS</td>\n",
              "      <td>CENTRO</td>\n",
              "      <td>45</td>\n",
              "      <td>0</td>\n",
              "      <td>0</td>\n",
              "      <td>0</td>\n",
              "      <td>0</td>\n",
              "      <td>0</td>\n",
              "    </tr>\n",
              "  </tbody>\n",
              "</table>\n",
              "</div>\n",
              "      <button class=\"colab-df-convert\" onclick=\"convertToInteractive('df-a4a8c937-30e5-48d5-9c42-59c9567993c5')\"\n",
              "              title=\"Convert this dataframe to an interactive table.\"\n",
              "              style=\"display:none;\">\n",
              "\n",
              "  <svg xmlns=\"http://www.w3.org/2000/svg\" height=\"24px\"viewBox=\"0 0 24 24\"\n",
              "       width=\"24px\">\n",
              "    <path d=\"M0 0h24v24H0V0z\" fill=\"none\"/>\n",
              "    <path d=\"M18.56 5.44l.94 2.06.94-2.06 2.06-.94-2.06-.94-.94-2.06-.94 2.06-2.06.94zm-11 1L8.5 8.5l.94-2.06 2.06-.94-2.06-.94L8.5 2.5l-.94 2.06-2.06.94zm10 10l.94 2.06.94-2.06 2.06-.94-2.06-.94-.94-2.06-.94 2.06-2.06.94z\"/><path d=\"M17.41 7.96l-1.37-1.37c-.4-.4-.92-.59-1.43-.59-.52 0-1.04.2-1.43.59L10.3 9.45l-7.72 7.72c-.78.78-.78 2.05 0 2.83L4 21.41c.39.39.9.59 1.41.59.51 0 1.02-.2 1.41-.59l7.78-7.78 2.81-2.81c.8-.78.8-2.07 0-2.86zM5.41 20L4 18.59l7.72-7.72 1.47 1.35L5.41 20z\"/>\n",
              "  </svg>\n",
              "      </button>\n",
              "\n",
              "\n",
              "\n",
              "    <div id=\"df-e0615cd4-be8c-476a-8cc7-de04732afe8b\">\n",
              "      <button class=\"colab-df-quickchart\" onclick=\"quickchart('df-e0615cd4-be8c-476a-8cc7-de04732afe8b')\"\n",
              "              title=\"Suggest charts.\"\n",
              "              style=\"display:none;\">\n",
              "\n",
              "<svg xmlns=\"http://www.w3.org/2000/svg\" height=\"24px\"viewBox=\"0 0 24 24\"\n",
              "     width=\"24px\">\n",
              "    <g>\n",
              "        <path d=\"M19 3H5c-1.1 0-2 .9-2 2v14c0 1.1.9 2 2 2h14c1.1 0 2-.9 2-2V5c0-1.1-.9-2-2-2zM9 17H7v-7h2v7zm4 0h-2V7h2v10zm4 0h-2v-4h2v4z\"/>\n",
              "    </g>\n",
              "</svg>\n",
              "      </button>\n",
              "    </div>\n",
              "\n",
              "<style>\n",
              "  .colab-df-quickchart {\n",
              "    background-color: #E8F0FE;\n",
              "    border: none;\n",
              "    border-radius: 50%;\n",
              "    cursor: pointer;\n",
              "    display: none;\n",
              "    fill: #1967D2;\n",
              "    height: 32px;\n",
              "    padding: 0 0 0 0;\n",
              "    width: 32px;\n",
              "  }\n",
              "\n",
              "  .colab-df-quickchart:hover {\n",
              "    background-color: #E2EBFA;\n",
              "    box-shadow: 0px 1px 2px rgba(60, 64, 67, 0.3), 0px 1px 3px 1px rgba(60, 64, 67, 0.15);\n",
              "    fill: #174EA6;\n",
              "  }\n",
              "\n",
              "  [theme=dark] .colab-df-quickchart {\n",
              "    background-color: #3B4455;\n",
              "    fill: #D2E3FC;\n",
              "  }\n",
              "\n",
              "  [theme=dark] .colab-df-quickchart:hover {\n",
              "    background-color: #434B5C;\n",
              "    box-shadow: 0px 1px 3px 1px rgba(0, 0, 0, 0.15);\n",
              "    filter: drop-shadow(0px 1px 2px rgba(0, 0, 0, 0.3));\n",
              "    fill: #FFFFFF;\n",
              "  }\n",
              "</style>\n",
              "\n",
              "    <script>\n",
              "      async function quickchart(key) {\n",
              "        const containerElement = document.querySelector('#' + key);\n",
              "        const charts = await google.colab.kernel.invokeFunction(\n",
              "            'suggestCharts', [key], {});\n",
              "      }\n",
              "    </script>\n",
              "\n",
              "      <script>\n",
              "\n",
              "function displayQuickchartButton(domScope) {\n",
              "  let quickchartButtonEl =\n",
              "    domScope.querySelector('#df-e0615cd4-be8c-476a-8cc7-de04732afe8b button.colab-df-quickchart');\n",
              "  quickchartButtonEl.style.display =\n",
              "    google.colab.kernel.accessAllowed ? 'block' : 'none';\n",
              "}\n",
              "\n",
              "        displayQuickchartButton(document);\n",
              "      </script>\n",
              "      <style>\n",
              "    .colab-df-container {\n",
              "      display:flex;\n",
              "      flex-wrap:wrap;\n",
              "      gap: 12px;\n",
              "    }\n",
              "\n",
              "    .colab-df-convert {\n",
              "      background-color: #E8F0FE;\n",
              "      border: none;\n",
              "      border-radius: 50%;\n",
              "      cursor: pointer;\n",
              "      display: none;\n",
              "      fill: #1967D2;\n",
              "      height: 32px;\n",
              "      padding: 0 0 0 0;\n",
              "      width: 32px;\n",
              "    }\n",
              "\n",
              "    .colab-df-convert:hover {\n",
              "      background-color: #E2EBFA;\n",
              "      box-shadow: 0px 1px 2px rgba(60, 64, 67, 0.3), 0px 1px 3px 1px rgba(60, 64, 67, 0.15);\n",
              "      fill: #174EA6;\n",
              "    }\n",
              "\n",
              "    [theme=dark] .colab-df-convert {\n",
              "      background-color: #3B4455;\n",
              "      fill: #D2E3FC;\n",
              "    }\n",
              "\n",
              "    [theme=dark] .colab-df-convert:hover {\n",
              "      background-color: #434B5C;\n",
              "      box-shadow: 0px 1px 3px 1px rgba(0, 0, 0, 0.15);\n",
              "      filter: drop-shadow(0px 1px 2px rgba(0, 0, 0, 0.3));\n",
              "      fill: #FFFFFF;\n",
              "    }\n",
              "  </style>\n",
              "\n",
              "      <script>\n",
              "        const buttonEl =\n",
              "          document.querySelector('#df-a4a8c937-30e5-48d5-9c42-59c9567993c5 button.colab-df-convert');\n",
              "        buttonEl.style.display =\n",
              "          google.colab.kernel.accessAllowed ? 'block' : 'none';\n",
              "\n",
              "        async function convertToInteractive(key) {\n",
              "          const element = document.querySelector('#df-a4a8c937-30e5-48d5-9c42-59c9567993c5');\n",
              "          const dataTable =\n",
              "            await google.colab.kernel.invokeFunction('convertToInteractive',\n",
              "                                                     [key], {});\n",
              "          if (!dataTable) return;\n",
              "\n",
              "          const docLinkHtml = 'Like what you see? Visit the ' +\n",
              "            '<a target=\"_blank\" href=https://colab.research.google.com/notebooks/data_table.ipynb>data table notebook</a>'\n",
              "            + ' to learn more about interactive tables.';\n",
              "          element.innerHTML = '';\n",
              "          dataTable['output_type'] = 'display_data';\n",
              "          await google.colab.output.renderOutput(dataTable, element);\n",
              "          const docLink = document.createElement('div');\n",
              "          docLink.innerHTML = docLinkHtml;\n",
              "          element.appendChild(docLink);\n",
              "        }\n",
              "      </script>\n",
              "    </div>\n",
              "  </div>\n"
            ]
          },
          "metadata": {},
          "execution_count": 309
        }
      ]
    },
    {
      "cell_type": "code",
      "source": [
        "df_13.shape"
      ],
      "metadata": {
        "colab": {
          "base_uri": "https://localhost:8080/"
        },
        "id": "q5Cabkp6gumM",
        "outputId": "930db16d-2402-4f26-a428-978c74a2961c"
      },
      "execution_count": 310,
      "outputs": [
        {
          "output_type": "execute_result",
          "data": {
            "text/plain": [
              "(11346, 15)"
            ]
          },
          "metadata": {},
          "execution_count": 310
        }
      ]
    }
  ]
}