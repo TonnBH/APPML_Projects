{
  "nbformat": 4,
  "nbformat_minor": 0,
  "metadata": {
    "colab": {
      "provenance": [],
      "mount_file_id": "1FBxoPzdR7eZKBTTerJ0zVMRueBpnFL5P",
      "authorship_tag": "ABX9TyOI4mKjudhba2m3DR874g4q",
      "include_colab_link": true
    },
    "kernelspec": {
      "name": "python3",
      "display_name": "Python 3"
    },
    "language_info": {
      "name": "python"
    }
  },
  "cells": [
    {
      "cell_type": "markdown",
      "metadata": {
        "id": "view-in-github",
        "colab_type": "text"
      },
      "source": [
        "<a href=\"https://colab.research.google.com/github/TonnBH/APPML_Projects/blob/main/SUS_project.ipynb\" target=\"_parent\"><img src=\"https://colab.research.google.com/assets/colab-badge.svg\" alt=\"Open In Colab\"/></a>"
      ]
    },
    {
      "cell_type": "markdown",
      "source": [
        "## Número de Leitos Disponiveis Pelos SUS nos Ultimos Cinco Anos"
      ],
      "metadata": {
        "id": "57YWOa1qqy1a"
      }
    },
    {
      "cell_type": "markdown",
      "source": [
        "A inteção deste projeto é fazer uma comparação com o número de leitos no sistema unico de Saude, o SUS com o objetivo de comparar e saber sobre os investimentos em leitos no ultimos anos pelos ultimos governos."
      ],
      "metadata": {
        "id": "qP16v6m9rhDU"
      }
    },
    {
      "cell_type": "code",
      "execution_count": 21,
      "metadata": {
        "id": "QW9YUx4Oo6s6"
      },
      "outputs": [],
      "source": [
        "import pandas as pd"
      ]
    },
    {
      "cell_type": "code",
      "source": [
        "from google.colab import files"
      ],
      "metadata": {
        "id": "UGN6sVf8vRZm"
      },
      "execution_count": 22,
      "outputs": []
    },
    {
      "cell_type": "markdown",
      "source": [
        "A minha intenção é importar cada banco de dados separadamente por ano, para podermos obter mais informações que sejam relevantes para o projeto; e tambem excluir colunas que não tenham relevancia."
      ],
      "metadata": {
        "id": "C3l25lQaxfFK"
      }
    },
    {
      "cell_type": "code",
      "source": [
        "#df_23 = pd.read_csv('/content/drive/MyDrive/ML_Projects/SUS_Project/Datasets/Leitos/Leitos_2023.csv', sep=',',index_col=\"COMP\")\n",
        "df_22 = pd.read_csv('/content/drive/MyDrive/ML_Projects/SUS_Project/Datasets/Leitos/Leitos_2022.csv', sep=',',index_col=\"COMP\")\n",
        "df_21 = pd.read_csv('/content/drive/MyDrive/ML_Projects/SUS_Project/Datasets/Leitos/Leitos_2021.csv', sep=',',index_col=\"COMP\")\n",
        "df_20 = pd.read_csv('/content/drive/MyDrive/ML_Projects/SUS_Project/Datasets/Leitos/Leitos_2020.csv', sep=',',index_col=\"COMP\")\n",
        "df_19 = pd.read_csv('/content/drive/MyDrive/ML_Projects/SUS_Project/Datasets/Leitos/Leitos_2019.csv', sep=',',index_col=\"COMP\")\n",
        "df_18 = pd.read_csv('/content/drive/MyDrive/ML_Projects/SUS_Project/Datasets/Leitos/Leitos_2018.csv', sep=',',index_col=\"COMP\")\n",
        "df_17 = pd.read_csv('/content/drive/MyDrive/ML_Projects/SUS_Project/Datasets/Leitos/Leitos_2017.csv', sep=',',index_col=\"COMP\")\n",
        "df_16 = pd.read_csv('/content/drive/MyDrive/ML_Projects/SUS_Project/Datasets/Leitos/Leitos_2016.csv', sep=',',index_col=\"COMP\")\n",
        "df_15 = pd.read_csv('/content/drive/MyDrive/ML_Projects/SUS_Project/Datasets/Leitos/Leitos_2015.csv', sep=',',index_col=\"COMP\")\n",
        "df_14 = pd.read_csv('/content/drive/MyDrive/ML_Projects/SUS_Project/Datasets/Leitos/Leitos_2014.csv', sep=',',index_col=\"COMP\")\n",
        "df_13 = pd.read_csv('/content/drive/MyDrive/ML_Projects/SUS_Project/Datasets/Leitos/Leitos_2013.csv', sep=',',index_col=\"COMP\")"
      ],
      "metadata": {
        "id": "GB_QiBUAtZGI"
      },
      "execution_count": 23,
      "outputs": []
    },
    {
      "cell_type": "markdown",
      "source": [
        "Eliminando colunas desnecessarias"
      ],
      "metadata": {
        "id": "rqVfyfZEGxbX"
      }
    },
    {
      "cell_type": "code",
      "source": [
        "df_13.drop([\"RAZAO SOCIAL\", \"TP_GESTAO\",\"CO_TIPO_UNIDADE\",\"CNES\",\"CO_CEP\",\"NO_EMAIL\",\"NU_TELEFONE\",\"NO_COMPLEMENTO\"], axis=1, inplace=True)\n",
        "df_14.drop([\"RAZAO SOCIAL\", \"TP_GESTAO\",\"CO_TIPO_UNIDADE\",\"CNES\",\"CO_CEP\",\"NO_EMAIL\",\"NU_TELEFONE\",\"NO_COMPLEMENTO\"], axis=1, inplace=True)\n",
        "df_15.drop([\"RAZAO SOCIAL\", \"TP_GESTAO\",\"CO_TIPO_UNIDADE\",\"CNES\",\"CO_CEP\",\"NO_EMAIL\",\"NU_TELEFONE\",\"NO_COMPLEMENTO\"], axis=1, inplace=True)\n",
        "df_16.drop([\"RAZAO SOCIAL\", \"TP_GESTAO\",\"CO_TIPO_UNIDADE\",\"CNES\",\"CO_CEP\",\"NO_EMAIL\",\"NU_TELEFONE\",\"NO_COMPLEMENTO\"], axis=1, inplace=True)\n",
        "df_17.drop([\"RAZAO SOCIAL\", \"TP_GESTAO\",\"CO_TIPO_UNIDADE\",\"CNES\",\"CO_CEP\",\"NO_EMAIL\",\"NU_TELEFONE\",\"NO_COMPLEMENTO\"], axis=1, inplace=True)\n",
        "df_18.drop([\"RAZAO SOCIAL\", \"TP_GESTAO\",\"CO_TIPO_UNIDADE\",\"CNES\",\"CO_CEP\",\"NO_EMAIL\",\"NU_TELEFONE\",\"NO_COMPLEMENTO\"], axis=1, inplace=True)\n",
        "df_19.drop([\"RAZAO SOCIAL\", \"TP_GESTAO\",\"CO_TIPO_UNIDADE\",\"CNES\",\"CO_CEP\",\"NO_EMAIL\",\"NU_TELEFONE\",\"NO_COMPLEMENTO\"], axis=1, inplace=True)\n",
        "df_20.drop([\"RAZAO SOCIAL\", \"TP_GESTAO\",\"CO_TIPO_UNIDADE\",\"CNES\",\"CO_CEP\",\"NO_EMAIL\",\"NU_TELEFONE\",\"NO_COMPLEMENTO\"], axis=1, inplace=True)\n",
        "df_21.drop([\"RAZAO SOCIAL\", \"TP_GESTAO\",\"CO_TIPO_UNIDADE\",\"CNES\",\"CO_CEP\",\"NO_EMAIL\",\"NU_TELEFONE\",\"NO_COMPLEMENTO\"], axis=1, inplace=True)\n",
        "df_22.drop([\"RAZAO SOCIAL\", \"TP_GESTAO\",\"CO_TIPO_UNIDADE\",\"CNES\",\"CO_CEP\",\"NO_EMAIL\",\"NU_TELEFONE\",\"NO_COMPLEMENTO\"], axis=1, inplace=True)"
      ],
      "metadata": {
        "id": "DiPVrPFPDNnV"
      },
      "execution_count": 24,
      "outputs": []
    },
    {
      "cell_type": "markdown",
      "source": [
        "Neste passo vou otimizar memoria alterando os tipos objetos para o tipo categoria\n",
        "\n",
        "REGIAO tipo  object = 5524033 memory usage,       \n",
        "       REGIAO tipo  category = 86675 memory usage"
      ],
      "metadata": {
        "id": "6jpiPQ-aKQrt"
      }
    },
    {
      "cell_type": "code",
      "source": [
        "df_13[\"REGIAO\"] = df_13[\"REGIAO\"].astype ('category')\n",
        "df_13[\"UF\"] = df_13[\"UF\"].astype ('category')\n",
        "df_13[\"MUNICIPIO\"] = df_13[\"MUNICIPIO\"].astype ('category')\n",
        "df_13[\"NOME ESTABELECIMENTO\"] = df_13[\"NOME ESTABELECIMENTO\"].astype ('category')\n",
        "df_13[\"DS_TIPO_UNIDADE\"] = df_13[\"DS_TIPO_UNIDADE\"].astype ('category')\n",
        "df_13[\"DESC_NATUREZA_JURIDICA\"] = df_13[\"DESC_NATUREZA_JURIDICA\"].astype ('category')\n",
        "df_13[\"NO_LOGRADOURO\"] = df_13[\"NO_LOGRADOURO\"].astype ('category')\n",
        "df_13[\"NU_ENDERECO\"] = df_13[\"NU_ENDERECO\"].astype ('category')\n",
        "df_13[\"NO_BAIRRO\"] = df_13[\"NO_BAIRRO\"].astype ('category')\n",
        "df_13[\"NO_BAIRRO\"] = df_13[\"NO_BAIRRO\"].astype ('category')\n",
        "\n",
        "df_14[\"REGIAO\"] = df_14[\"REGIAO\"].astype ('category')\n",
        "df_14[\"UF\"] = df_14[\"UF\"].astype ('category')\n",
        "df_14[\"MUNICIPIO\"] = df_14[\"MUNICIPIO\"].astype ('category')\n",
        "df_14[\"NOME ESTABELECIMENTO\"] = df_14[\"NOME ESTABELECIMENTO\"].astype ('category')\n",
        "df_14[\"DS_TIPO_UNIDADE\"] = df_14[\"DS_TIPO_UNIDADE\"].astype ('category')\n",
        "df_14[\"DESC_NATUREZA_JURIDICA\"] = df_14[\"DESC_NATUREZA_JURIDICA\"].astype ('category')\n",
        "df_14[\"NO_LOGRADOURO\"] = df_14[\"NO_LOGRADOURO\"].astype ('category')\n",
        "df_14[\"NU_ENDERECO\"] = df_14[\"NU_ENDERECO\"].astype ('category')\n",
        "df_14[\"NO_BAIRRO\"] = df_14[\"NO_BAIRRO\"].astype ('category')\n",
        "df_14[\"NO_BAIRRO\"] = df_14[\"NO_BAIRRO\"].astype ('category')\n",
        "\n",
        "df_15[\"REGIAO\"] = df_15[\"REGIAO\"].astype ('category')\n",
        "df_15[\"UF\"] = df_15[\"UF\"].astype ('category')\n",
        "df_15[\"MUNICIPIO\"] = df_15[\"MUNICIPIO\"].astype ('category')\n",
        "df_15[\"NOME ESTABELECIMENTO\"] = df_15[\"NOME ESTABELECIMENTO\"].astype ('category')\n",
        "df_15[\"DS_TIPO_UNIDADE\"] = df_15[\"DS_TIPO_UNIDADE\"].astype ('category')\n",
        "df_15[\"DESC_NATUREZA_JURIDICA\"] = df_15[\"DESC_NATUREZA_JURIDICA\"].astype ('category')\n",
        "df_15[\"NO_LOGRADOURO\"] = df_15[\"NO_LOGRADOURO\"].astype ('category')\n",
        "df_15[\"NU_ENDERECO\"] = df_15[\"NU_ENDERECO\"].astype ('category')\n",
        "df_15[\"NO_BAIRRO\"] = df_15[\"NO_BAIRRO\"].astype ('category')\n",
        "df_15[\"NO_BAIRRO\"] = df_15[\"NO_BAIRRO\"].astype ('category')\n",
        "\n",
        "df_16[\"REGIAO\"] = df_16[\"REGIAO\"].astype ('category')\n",
        "df_16[\"UF\"] = df_16[\"UF\"].astype ('category')\n",
        "df_16[\"MUNICIPIO\"] = df_16[\"MUNICIPIO\"].astype ('category')\n",
        "df_16[\"NOME ESTABELECIMENTO\"] = df_16[\"NOME ESTABELECIMENTO\"].astype ('category')\n",
        "df_16[\"DS_TIPO_UNIDADE\"] = df_16[\"DS_TIPO_UNIDADE\"].astype ('category')\n",
        "df_16[\"DESC_NATUREZA_JURIDICA\"] = df_16[\"DESC_NATUREZA_JURIDICA\"].astype ('category')\n",
        "df_16[\"NO_LOGRADOURO\"] = df_16[\"NO_LOGRADOURO\"].astype ('category')\n",
        "df_16[\"NU_ENDERECO\"] = df_16[\"NU_ENDERECO\"].astype ('category')\n",
        "df_16[\"NO_BAIRRO\"] = df_16[\"NO_BAIRRO\"].astype ('category')\n",
        "df_16[\"NO_BAIRRO\"] = df_16[\"NO_BAIRRO\"].astype ('category')\n",
        "\n",
        "df_17[\"REGIAO\"] = df_17[\"REGIAO\"].astype ('category')\n",
        "df_17[\"UF\"] = df_17[\"UF\"].astype ('category')\n",
        "df_17[\"MUNICIPIO\"] = df_17[\"MUNICIPIO\"].astype ('category')\n",
        "df_17[\"NOME ESTABELECIMENTO\"] = df_17[\"NOME ESTABELECIMENTO\"].astype ('category')\n",
        "df_17[\"DS_TIPO_UNIDADE\"] = df_17[\"DS_TIPO_UNIDADE\"].astype ('category')\n",
        "df_17[\"DESC_NATUREZA_JURIDICA\"] = df_17[\"DESC_NATUREZA_JURIDICA\"].astype ('category')\n",
        "df_17[\"NO_LOGRADOURO\"] = df_17[\"NO_LOGRADOURO\"].astype ('category')\n",
        "df_17[\"NU_ENDERECO\"] = df_17[\"NU_ENDERECO\"].astype ('category')\n",
        "df_17[\"NO_BAIRRO\"] = df_17[\"NO_BAIRRO\"].astype ('category')\n",
        "df_17[\"NO_BAIRRO\"] = df_17[\"NO_BAIRRO\"].astype ('category')\n",
        "\n",
        "df_18[\"REGIAO\"] = df_18[\"REGIAO\"].astype ('category')\n",
        "df_18[\"UF\"] = df_18[\"UF\"].astype ('category')\n",
        "df_18[\"MUNICIPIO\"] = df_18[\"MUNICIPIO\"].astype ('category')\n",
        "df_18[\"NOME ESTABELECIMENTO\"] = df_18[\"NOME ESTABELECIMENTO\"].astype ('category')\n",
        "df_18[\"DS_TIPO_UNIDADE\"] = df_18[\"DS_TIPO_UNIDADE\"].astype ('category')\n",
        "df_18[\"DESC_NATUREZA_JURIDICA\"] = df_18[\"DESC_NATUREZA_JURIDICA\"].astype ('category')\n",
        "df_18[\"NO_LOGRADOURO\"] = df_18[\"NO_LOGRADOURO\"].astype ('category')\n",
        "df_18[\"NU_ENDERECO\"] = df_18[\"NU_ENDERECO\"].astype ('category')\n",
        "df_18[\"NO_BAIRRO\"] = df_18[\"NO_BAIRRO\"].astype ('category')\n",
        "df_18[\"NO_BAIRRO\"] = df_18[\"NO_BAIRRO\"].astype ('category')\n",
        "\n",
        "df_19[\"REGIAO\"] = df_19[\"REGIAO\"].astype ('category')\n",
        "df_19[\"UF\"] = df_19[\"UF\"].astype ('category')\n",
        "df_19[\"MUNICIPIO\"] = df_19[\"MUNICIPIO\"].astype ('category')\n",
        "df_19[\"NOME ESTABELECIMENTO\"] = df_19[\"NOME ESTABELECIMENTO\"].astype ('category')\n",
        "df_19[\"DS_TIPO_UNIDADE\"] = df_19[\"DS_TIPO_UNIDADE\"].astype ('category')\n",
        "df_19[\"DESC_NATUREZA_JURIDICA\"] = df_19[\"DESC_NATUREZA_JURIDICA\"].astype ('category')\n",
        "df_19[\"NO_LOGRADOURO\"] = df_19[\"NO_LOGRADOURO\"].astype ('category')\n",
        "df_19[\"NU_ENDERECO\"] = df_19[\"NU_ENDERECO\"].astype ('category')\n",
        "df_19[\"NO_BAIRRO\"] = df_19[\"NO_BAIRRO\"].astype ('category')\n",
        "df_19[\"NO_BAIRRO\"] = df_19[\"NO_BAIRRO\"].astype ('category')\n",
        "\n",
        "df_20[\"REGIAO\"] = df_20[\"REGIAO\"].astype ('category')\n",
        "df_20[\"UF\"] = df_20[\"UF\"].astype ('category')\n",
        "df_20[\"MUNICIPIO\"] = df_20[\"MUNICIPIO\"].astype ('category')\n",
        "df_20[\"NOME ESTABELECIMENTO\"] = df_20[\"NOME ESTABELECIMENTO\"].astype ('category')\n",
        "df_20[\"DS_TIPO_UNIDADE\"] = df_20[\"DS_TIPO_UNIDADE\"].astype ('category')\n",
        "df_20[\"DESC_NATUREZA_JURIDICA\"] = df_20[\"DESC_NATUREZA_JURIDICA\"].astype ('category')\n",
        "df_20[\"NO_LOGRADOURO\"] = df_20[\"NO_LOGRADOURO\"].astype ('category')\n",
        "df_20[\"NU_ENDERECO\"] = df_20[\"NU_ENDERECO\"].astype ('category')\n",
        "df_20[\"NO_BAIRRO\"] = df_20[\"NO_BAIRRO\"].astype ('category')\n",
        "df_20[\"NO_BAIRRO\"] = df_20[\"NO_BAIRRO\"].astype ('category')\n",
        "\n",
        "df_21[\"REGIAO\"] = df_21[\"REGIAO\"].astype ('category')\n",
        "df_21[\"UF\"] = df_21[\"UF\"].astype ('category')\n",
        "df_21[\"MUNICIPIO\"] = df_21[\"MUNICIPIO\"].astype ('category')\n",
        "df_21[\"NOME ESTABELECIMENTO\"] = df_21[\"NOME ESTABELECIMENTO\"].astype ('category')\n",
        "df_21[\"DS_TIPO_UNIDADE\"] = df_21[\"DS_TIPO_UNIDADE\"].astype ('category')\n",
        "df_21[\"DESC_NATUREZA_JURIDICA\"] = df_21[\"DESC_NATUREZA_JURIDICA\"].astype ('category')\n",
        "df_21[\"NO_LOGRADOURO\"] = df_21[\"NO_LOGRADOURO\"].astype ('category')\n",
        "df_21[\"NU_ENDERECO\"] = df_21[\"NU_ENDERECO\"].astype ('category')\n",
        "df_21[\"NO_BAIRRO\"] = df_21[\"NO_BAIRRO\"].astype ('category')\n",
        "df_21[\"NO_BAIRRO\"] = df_21[\"NO_BAIRRO\"].astype ('category')\n",
        "\n",
        "df_22[\"REGIAO\"] = df_22[\"REGIAO\"].astype ('category')\n",
        "df_22[\"UF\"] = df_22[\"UF\"].astype ('category')\n",
        "df_22[\"MUNICIPIO\"] = df_22[\"MUNICIPIO\"].astype ('category')\n",
        "df_22[\"NOME ESTABELECIMENTO\"] = df_22[\"NOME ESTABELECIMENTO\"].astype ('category')\n",
        "df_22[\"DS_TIPO_UNIDADE\"] = df_22[\"DS_TIPO_UNIDADE\"].astype ('category')\n",
        "df_22[\"DESC_NATUREZA_JURIDICA\"] = df_22[\"DESC_NATUREZA_JURIDICA\"].astype ('category')\n",
        "df_22[\"NO_LOGRADOURO\"] = df_22[\"NO_LOGRADOURO\"].astype ('category')\n",
        "df_22[\"NU_ENDERECO\"] = df_22[\"NU_ENDERECO\"].astype ('category')\n",
        "df_22[\"NO_BAIRRO\"] = df_22[\"NO_BAIRRO\"].astype ('category')\n",
        "df_22[\"NO_BAIRRO\"] = df_22[\"NO_BAIRRO\"].astype ('category')"
      ],
      "metadata": {
        "id": "PX8T0N5OKPoV"
      },
      "execution_count": 37,
      "outputs": []
    }
  ]
}